{
 "cells": [
  {
   "cell_type": "code",
   "execution_count": 23,
   "outputs": [],
   "source": [
    "import pandas as pd\n",
    "import os"
   ],
   "metadata": {
    "collapsed": false,
    "pycharm": {
     "name": "#%%\n"
    }
   }
  },
  {
   "cell_type": "markdown",
   "source": [
    "## Sanity check on complexity grouped recall/precision"
   ],
   "metadata": {
    "collapsed": false,
    "pycharm": {
     "name": "#%% md\n"
    }
   }
  },
  {
   "cell_type": "code",
   "execution_count": 13,
   "outputs": [],
   "source": [
    "input_csv = '/media/zhaoyang-new/workspace/KarSim/KarComparator/omkar_analyses_pipeline/builds/b14/analyses_summary/whole_analyses_table.csv'\n",
    "df = pd.read_csv(input_csv)"
   ],
   "metadata": {
    "collapsed": false,
    "pycharm": {
     "name": "#%%\n"
    }
   }
  },
  {
   "cell_type": "code",
   "execution_count": 16,
   "outputs": [],
   "source": [
    "df = df[df['recall'].isna()]"
   ],
   "metadata": {
    "collapsed": false,
    "pycharm": {
     "name": "#%%\n"
    }
   }
  },
  {
   "cell_type": "code",
   "execution_count": 17,
   "outputs": [
    {
     "data": {
      "text/plain": "Empty DataFrame\nColumns: [file_name, cluster, n_origin_chr, origin_chr, n_path_karsim, n_path_omkar, event_chr, histories, n_events, is_event_cluster, n_path_diff, approximated_distance, n_approximated_edges, karsim_missed_transition, n_karsim_missed_transition, n_omkar_missed_transition, SV_missed, CNV_missed, log10_CNV_missed, n_dummies, n_leftover_dummies, n_seg_changed, n_leftover_segchange, n_significant_dummies, n_leftover_significant_dummies, n_significant_seg_change, n_leftover_significant_seg_change, cancelled_significant_dummies, dummy_distance, n_initial_SVs, preILP_similar_SV, n_preILP_similar_SV, karsim_missed_transition_event_type, complexity score, TP, FP, FN, precision, recall]\nIndex: []\n\n[0 rows x 39 columns]",
      "text/html": "<div>\n<style scoped>\n    .dataframe tbody tr th:only-of-type {\n        vertical-align: middle;\n    }\n\n    .dataframe tbody tr th {\n        vertical-align: top;\n    }\n\n    .dataframe thead th {\n        text-align: right;\n    }\n</style>\n<table border=\"1\" class=\"dataframe\">\n  <thead>\n    <tr style=\"text-align: right;\">\n      <th></th>\n      <th>file_name</th>\n      <th>cluster</th>\n      <th>n_origin_chr</th>\n      <th>origin_chr</th>\n      <th>n_path_karsim</th>\n      <th>n_path_omkar</th>\n      <th>event_chr</th>\n      <th>histories</th>\n      <th>n_events</th>\n      <th>is_event_cluster</th>\n      <th>...</th>\n      <th>n_initial_SVs</th>\n      <th>preILP_similar_SV</th>\n      <th>n_preILP_similar_SV</th>\n      <th>karsim_missed_transition_event_type</th>\n      <th>complexity score</th>\n      <th>TP</th>\n      <th>FP</th>\n      <th>FN</th>\n      <th>precision</th>\n      <th>recall</th>\n    </tr>\n  </thead>\n  <tbody>\n  </tbody>\n</table>\n<p>0 rows × 39 columns</p>\n</div>"
     },
     "execution_count": 17,
     "metadata": {},
     "output_type": "execute_result"
    }
   ],
   "source": [
    "df"
   ],
   "metadata": {
    "collapsed": false,
    "pycharm": {
     "name": "#%%\n"
    }
   }
  },
  {
   "cell_type": "markdown",
   "source": [
    "## Check if SV edge is removed between preILP and postILP"
   ],
   "metadata": {
    "collapsed": false,
    "pycharm": {
     "name": "#%% md\n"
    }
   }
  },
  {
   "cell_type": "code",
   "execution_count": 24,
   "outputs": [],
   "source": [
    "def read_preILP_edges(edge_file):\n",
    "\tsv_edges = []\n",
    "\twith open(edge_file) as fp_read:\n",
    "\t\tfor line in fp_read:\n",
    "\t\t\tline = line.replace('\\n', '')\n",
    "\t\t\tline = line.replace('(', '')\n",
    "\t\t\tline = line.replace(')', '')\n",
    "\t\t\tinfo = line.split(', ')\n",
    "\t\t\tif info[3] == \"'SV'\":\n",
    "\t\t\t\tsv_edges.append({'in-node': info[0],\n",
    "\t\t\t\t\t\t\t\t 'out-node': info[1]})\n",
    "\treturn sv_edges"
   ],
   "metadata": {
    "collapsed": false,
    "pycharm": {
     "name": "#%%\n"
    }
   }
  },
  {
   "cell_type": "code",
   "execution_count": 47,
   "outputs": [],
   "source": [
    "def read_postILP_edges(edge_file_folder):\n",
    "\tsv_edges = []\n",
    "\tfor filename in os.listdir(edge_file_folder):\n",
    "\t\tfile_path = os.path.join(edge_file_folder, filename)\n",
    "\t\twith open(file_path) as fp_read:\n",
    "\t\t\tfor line in fp_read:\n",
    "\t\t\t\tline = line.replace('\\n', '')\n",
    "\t\t\t\tline = line.replace('(', '')\n",
    "\t\t\t\tline = line.replace(')', '')\n",
    "\t\t\t\tinfo = line.split(', ')\n",
    "\t\t\t\tif info[3] in [\"'SV'\", \"'D'\"]:\n",
    "\t\t\t\t\tsv_edges.append({'in-node': info[0],\n",
    "\t\t\t\t\t\t\t\t\t 'out-node': info[1],\n",
    "\t\t\t\t\t\t\t\t\t 'type': info[3]})\n",
    "\treturn sv_edges"
   ],
   "metadata": {
    "collapsed": false,
    "pycharm": {
     "name": "#%%\n"
    }
   }
  },
  {
   "cell_type": "code",
   "execution_count": 48,
   "outputs": [],
   "source": [
    "omkar_output_folder = '/media/zhaoyang-new/workspace/KarSim/KarComparator/omkar_analyses_pipeline/builds/b14/omkar_output/'"
   ],
   "metadata": {
    "collapsed": false,
    "pycharm": {
     "name": "#%%\n"
    }
   }
  },
  {
   "cell_type": "code",
   "execution_count": 49,
   "outputs": [],
   "source": [
    "def check_removed_edge(preILP, postILP):\n",
    "\tmissed_edge = []\n",
    "\tfor pre_edge in preILP:\n",
    "\t\tedge_found = False\n",
    "\t\tfor post_edge in postILP:\n",
    "\t\t\tif pre_edge['in-node'] == post_edge['in-node'] and pre_edge['out-node'] == post_edge['out-node']:\n",
    "\t\t\t\tedge_found = True\n",
    "\t\t\t\tbreak\n",
    "\t\t\telif pre_edge['in-node'] == post_edge['out-node'] and pre_edge['out-node'] == post_edge['in-node']:\n",
    "\t\t\t\t# undirected graph\n",
    "\t\t\t\tedge_found = True\n",
    "\t\t\t\tbreak\n",
    "\t\tif not edge_found:\n",
    "\t\t\tmissed_edge.append(pre_edge)\n",
    "\treturn missed_edge"
   ],
   "metadata": {
    "collapsed": false,
    "pycharm": {
     "name": "#%%\n"
    }
   }
  },
  {
   "cell_type": "code",
   "execution_count": 54,
   "outputs": [],
   "source": [
    "def check_if_SV_removed_added_as_dummy(preILP, postILP):\n",
    "\tSV_missed_edges = []\n",
    "\tfor pre_edge in preILP:\n",
    "\t\tedge_found = False\n",
    "\t\tfor post_edge in postILP:\n",
    "\t\t\tif post_edge['type'] == \"'SV'\":\n",
    "\t\t\t\tif pre_edge['in-node'] == post_edge['in-node'] and pre_edge['out-node'] == post_edge['out-node']:\n",
    "\t\t\t\t\tedge_found = True\n",
    "\t\t\t\t\tbreak\n",
    "\t\t\t\telif pre_edge['in-node'] == post_edge['out-node'] and pre_edge['out-node'] == post_edge['in-node']:\n",
    "\t\t\t\t\t# undirected graph\n",
    "\t\t\t\t\tedge_found = True\n",
    "\t\t\t\t\tbreak\n",
    "\t\tif not edge_found:\n",
    "\t\t\tSV_missed_edges.append(pre_edge)\n",
    "\tdummy_added_back = []\n",
    "\tfor pre_edge in SV_missed_edges:\n",
    "\t\tedge_found = False\n",
    "\t\tfor post_edge in postILP:\n",
    "\t\t\tif post_edge['type'] == \"'D'\":\n",
    "\t\t\t\tif pre_edge['in-node'] == post_edge['in-node'] and pre_edge['out-node'] == post_edge['out-node']:\n",
    "\t\t\t\t\tedge_found = True\n",
    "\t\t\t\t\tbreak\n",
    "\t\t\t\telif pre_edge['in-node'] == post_edge['out-node'] and pre_edge['out-node'] == post_edge['in-node']:\n",
    "\t\t\t\t\t# undirected graph\n",
    "\t\t\t\t\tedge_found = True\n",
    "\t\t\t\t\tbreak\n",
    "\t\tif edge_found:\n",
    "\t\t\tdummy_added_back.append(pre_edge)\n",
    "\treturn dummy_added_back"
   ],
   "metadata": {
    "collapsed": false,
    "pycharm": {
     "name": "#%%\n"
    }
   }
  },
  {
   "cell_type": "code",
   "execution_count": 55,
   "outputs": [
    {
     "name": "stdout",
     "output_type": "stream",
     "text": [
      "721\n",
      "110\n",
      "0\n"
     ]
    }
   ],
   "source": [
    "total_sv_edges_received = 0\n",
    "total_sv_edeges_removed = 0\n",
    "total_dummies_added_back = 0\n",
    "for case_folder in os.listdir(omkar_output_folder):\n",
    "\tpreILP_file = os.path.join(omkar_output_folder, case_folder, '{}.preILP_edges.txt'.format(case_folder))\n",
    "\tpostILP_file_folder = os.path.join(omkar_output_folder, case_folder, 'all_edges_with_dummies')\n",
    "\tpreILP_edges = read_preILP_edges(preILP_file)\n",
    "\tpostILP_edges = read_postILP_edges(postILP_file_folder)\n",
    "\tmissed_edges = check_removed_edge(preILP_edges, postILP_edges)\n",
    "\tdummy_added_back = check_if_SV_removed_added_as_dummy(preILP_edges, postILP_edges)\n",
    "\ttotal_sv_edges_received += len(preILP_edges)\n",
    "\ttotal_sv_edeges_removed += len(missed_edges)\n",
    "\ttotal_dummies_added_back += len(dummy_added_back)\n",
    "\n",
    "print(total_sv_edges_received)\n",
    "print(total_sv_edeges_removed)\n",
    "print(total_dummies_added_back)"
   ],
   "metadata": {
    "collapsed": false,
    "pycharm": {
     "name": "#%%\n"
    }
   }
  },
  {
   "cell_type": "code",
   "execution_count": null,
   "outputs": [],
   "source": [],
   "metadata": {
    "collapsed": false,
    "pycharm": {
     "name": "#%%\n"
    }
   }
  }
 ],
 "metadata": {
  "kernelspec": {
   "display_name": "Python 3",
   "language": "python",
   "name": "python3"
  },
  "language_info": {
   "codemirror_mode": {
    "name": "ipython",
    "version": 2
   },
   "file_extension": ".py",
   "mimetype": "text/x-python",
   "name": "python",
   "nbconvert_exporter": "python",
   "pygments_lexer": "ipython2",
   "version": "2.7.6"
  }
 },
 "nbformat": 4,
 "nbformat_minor": 0
}
