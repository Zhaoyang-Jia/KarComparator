{
 "cells": [
  {
   "cell_type": "code",
   "execution_count": 1,
   "outputs": [],
   "source": [
    "from forbidden_region_processing import *"
   ],
   "metadata": {
    "collapsed": false,
    "pycharm": {
     "name": "#%%\n"
    }
   }
  },
  {
   "cell_type": "code",
   "execution_count": 7,
   "outputs": [],
   "source": [
    "forbidden_region_file = 'acrocentric_telo_cen.bed'\n",
    "output_file = 'cn_bins_50kbp.txt'"
   ],
   "metadata": {
    "collapsed": false,
    "pycharm": {
     "name": "#%%\n"
    }
   }
  },
  {
   "cell_type": "code",
   "execution_count": 3,
   "outputs": [],
   "source": [
    "def partition_region(start, end, target_size=50000, allowance=100):\n",
    "\tmin_residual = target_size + allowance + 1\n",
    "\tmin_residual_k = -1\n",
    "\tfor epsilon in range(-1 * allowance, allowance + 1):\n",
    "\t\tk = target_size + epsilon\n",
    "\t\tlength = end - start + 1\n",
    "\t\tresidual = target_size - (length % k)\n",
    "\t\tif residual < min_residual:\n",
    "\t\t\tmin_residual_k = k\n",
    "\t\t\tmin_residual = residual\n",
    "\t\t# print(k, residual)\n",
    "\treturn_list = []\n",
    "\twhile start <= end:\n",
    "\t\treturn_list.append((start, min(start + min_residual_k, end)))\n",
    "\t\tstart += min_residual_k\n",
    "\treturn return_list"
   ],
   "metadata": {
    "collapsed": false,
    "pycharm": {
     "name": "#%%\n"
    }
   }
  },
  {
   "cell_type": "code",
   "execution_count": 4,
   "outputs": [],
   "source": [
    "forbidden_segments = read_forbidden_regions(forbidden_region_file).segments"
   ],
   "metadata": {
    "collapsed": false,
    "pycharm": {
     "name": "#%%\n"
    }
   }
  },
  {
   "cell_type": "code",
   "execution_count": 5,
   "outputs": [],
   "source": [
    "chrom_region_dict = {}\n",
    "for chrom in ['Chr' + str(i) for i in range(1, 23)] + ['ChrX', 'ChrY']:\n",
    "\tnonforbidden_regions = []\n",
    "\tchrom_segs = []\n",
    "\tfor seg in forbidden_segments:\n",
    "\t\tif seg.chr_name == chrom:\n",
    "\t\t\tchrom_segs.append(seg)\n",
    "\t# print(chrom)\n",
    "\t# for seg in chrom_segs:\n",
    "\t# \tprint(seg)\n",
    "\tis_acrocentric = False\n",
    "\tfor seg in chrom_segs:\n",
    "\t\tif seg.segment_type.startswith('acrocentric'):\n",
    "\t\t\tis_acrocentric = True\n",
    "\t# print(is_acrocentric)\n",
    "\tif not is_acrocentric:\n",
    "\t\ttelo1 = chrom_segs[0]\n",
    "\t\tcen = chrom_segs[1]\n",
    "\t\ttelo2 = chrom_segs[2]\n",
    "\t\tnonforbidden_regions.append((telo1.end + 1, cen.start - 1))\n",
    "\t\tnonforbidden_regions.append((cen.end + 1, telo2.start - 1))\n",
    "\telse:\n",
    "\t\tcen = chrom_segs[1]\n",
    "\t\ttelo2 = chrom_segs[2]\n",
    "\t\tnonforbidden_regions.append((cen.end + 1, telo2.start - 1))\n",
    "\tchrom_region_dict[chrom] = nonforbidden_regions"
   ],
   "metadata": {
    "collapsed": false,
    "pycharm": {
     "name": "#%%\n"
    }
   }
  },
  {
   "cell_type": "code",
   "execution_count": 6,
   "outputs": [],
   "source": [
    "cn_bin = []\n",
    "for chrom, nonforbidden_regions in chrom_region_dict.items():\n",
    "\tfor (c_start, c_end) in nonforbidden_regions:\n",
    "\t\tc_cn_bin = partition_region(c_start, c_end)\n",
    "\t\tfor (bin_start, bin_end) in c_cn_bin:\n",
    "\t\t\tcn_bin.append((chrom, bin_start, bin_end, bin_end - bin_start + 1))"
   ],
   "metadata": {
    "collapsed": false,
    "pycharm": {
     "name": "#%%\n"
    }
   }
  },
  {
   "cell_type": "code",
   "execution_count": 8,
   "outputs": [],
   "source": [
    "with open(output_file, 'w') as fp_write:\n",
    "\tfor bin_itr in cn_bin:\n",
    "\t\tfp_write.write('{}\\t{}\\t{}\\t{}\\n'.format(*bin_itr))"
   ],
   "metadata": {
    "collapsed": false,
    "pycharm": {
     "name": "#%%\n"
    }
   }
  },
  {
   "cell_type": "code",
   "execution_count": null,
   "outputs": [],
   "source": [],
   "metadata": {
    "collapsed": false,
    "pycharm": {
     "name": "#%%\n"
    }
   }
  }
 ],
 "metadata": {
  "kernelspec": {
   "display_name": "Python 3",
   "language": "python",
   "name": "python3"
  },
  "language_info": {
   "codemirror_mode": {
    "name": "ipython",
    "version": 2
   },
   "file_extension": ".py",
   "mimetype": "text/x-python",
   "name": "python",
   "nbconvert_exporter": "python",
   "pygments_lexer": "ipython2",
   "version": "2.7.6"
  }
 },
 "nbformat": 4,
 "nbformat_minor": 0
}