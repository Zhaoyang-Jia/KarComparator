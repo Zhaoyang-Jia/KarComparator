{
 "cells": [
  {
   "cell_type": "code",
   "execution_count": 2,
   "outputs": [],
   "source": [
    "import pandas as pd"
   ],
   "metadata": {
    "collapsed": false
   }
  },
  {
   "cell_type": "markdown",
   "source": [
    "## hg38 UCSC"
   ],
   "metadata": {
    "collapsed": false
   }
  },
  {
   "cell_type": "code",
   "execution_count": 2,
   "outputs": [],
   "source": [
    "df = pd.read_csv('hg38.bed', sep='\\t', usecols=[0, 1, 2, 3, 23], names=['chr', 'start', 'end', 'gene_name', 'gene_type'])"
   ],
   "metadata": {
    "collapsed": false
   }
  },
  {
   "cell_type": "code",
   "execution_count": 3,
   "outputs": [
    {
     "data": {
      "text/plain": "array(['Gene', 'tRNA', 'V_segment', 'D_segment', 'J_segment', 'C_region',\n       'regulatory', 'rRNA'], dtype=object)"
     },
     "execution_count": 3,
     "metadata": {},
     "output_type": "execute_result"
    }
   ],
   "source": [
    "df['gene_type'].unique()"
   ],
   "metadata": {
    "collapsed": false
   }
  },
  {
   "cell_type": "code",
   "execution_count": 4,
   "outputs": [
    {
     "data": {
      "text/plain": "                       chr   start     end    gene_name gene_type\n0                     chr1   52452   53396       OR4G4P      Gene\n1                     chr1   63015   63885      OR4G11P      Gene\n2                     chr1  126641  129225  SEPTIN14P18      Gene\n3                     chr1  131067  134836       CICP27      Gene\n4                     chr1  157783  157887   RNU6-1100P      Gene\n...                    ...     ...     ...          ...       ...\n18939  chrY_MU273398v1_fix  245358  248173       TSPY7P      Gene\n18940  chrY_MU273398v1_fix  732247  735062       TSPY6P      Gene\n18941  chrY_MU273398v1_fix  772715  775527      TSPY15P      Gene\n18942  chrY_MU273398v1_fix  848836  851006      TSPY25P      Gene\n18943  chrY_MU273398v1_fix  864902  865415      TSPY16P      Gene\n\n[18944 rows x 5 columns]",
      "text/html": "<div>\n<style scoped>\n    .dataframe tbody tr th:only-of-type {\n        vertical-align: middle;\n    }\n\n    .dataframe tbody tr th {\n        vertical-align: top;\n    }\n\n    .dataframe thead th {\n        text-align: right;\n    }\n</style>\n<table border=\"1\" class=\"dataframe\">\n  <thead>\n    <tr style=\"text-align: right;\">\n      <th></th>\n      <th>chr</th>\n      <th>start</th>\n      <th>end</th>\n      <th>gene_name</th>\n      <th>gene_type</th>\n    </tr>\n  </thead>\n  <tbody>\n    <tr>\n      <th>0</th>\n      <td>chr1</td>\n      <td>52452</td>\n      <td>53396</td>\n      <td>OR4G4P</td>\n      <td>Gene</td>\n    </tr>\n    <tr>\n      <th>1</th>\n      <td>chr1</td>\n      <td>63015</td>\n      <td>63885</td>\n      <td>OR4G11P</td>\n      <td>Gene</td>\n    </tr>\n    <tr>\n      <th>2</th>\n      <td>chr1</td>\n      <td>126641</td>\n      <td>129225</td>\n      <td>SEPTIN14P18</td>\n      <td>Gene</td>\n    </tr>\n    <tr>\n      <th>3</th>\n      <td>chr1</td>\n      <td>131067</td>\n      <td>134836</td>\n      <td>CICP27</td>\n      <td>Gene</td>\n    </tr>\n    <tr>\n      <th>4</th>\n      <td>chr1</td>\n      <td>157783</td>\n      <td>157887</td>\n      <td>RNU6-1100P</td>\n      <td>Gene</td>\n    </tr>\n    <tr>\n      <th>...</th>\n      <td>...</td>\n      <td>...</td>\n      <td>...</td>\n      <td>...</td>\n      <td>...</td>\n    </tr>\n    <tr>\n      <th>18939</th>\n      <td>chrY_MU273398v1_fix</td>\n      <td>245358</td>\n      <td>248173</td>\n      <td>TSPY7P</td>\n      <td>Gene</td>\n    </tr>\n    <tr>\n      <th>18940</th>\n      <td>chrY_MU273398v1_fix</td>\n      <td>732247</td>\n      <td>735062</td>\n      <td>TSPY6P</td>\n      <td>Gene</td>\n    </tr>\n    <tr>\n      <th>18941</th>\n      <td>chrY_MU273398v1_fix</td>\n      <td>772715</td>\n      <td>775527</td>\n      <td>TSPY15P</td>\n      <td>Gene</td>\n    </tr>\n    <tr>\n      <th>18942</th>\n      <td>chrY_MU273398v1_fix</td>\n      <td>848836</td>\n      <td>851006</td>\n      <td>TSPY25P</td>\n      <td>Gene</td>\n    </tr>\n    <tr>\n      <th>18943</th>\n      <td>chrY_MU273398v1_fix</td>\n      <td>864902</td>\n      <td>865415</td>\n      <td>TSPY16P</td>\n      <td>Gene</td>\n    </tr>\n  </tbody>\n</table>\n<p>18944 rows × 5 columns</p>\n</div>"
     },
     "execution_count": 4,
     "metadata": {},
     "output_type": "execute_result"
    }
   ],
   "source": [
    "df"
   ],
   "metadata": {
    "collapsed": false
   }
  },
  {
   "cell_type": "code",
   "execution_count": 5,
   "outputs": [],
   "source": [
    "coding_gene_df = df[df['gene_type'] == 'Gene']\n",
    "coding_gene_df.to_csv('coding_genes.bed', sep='\\t', header=False, index=False, columns=['chr', 'start', 'end', 'gene_name'])"
   ],
   "metadata": {
    "collapsed": false
   }
  },
  {
   "cell_type": "code",
   "execution_count": 6,
   "outputs": [
    {
     "name": "stdout",
     "output_type": "stream",
     "text": [
      "0\n",
      "chr\n",
      "1\n",
      "start\n",
      "2\n",
      "end\n",
      "3\n",
      "gene_name\n",
      "4\n",
      "gene_type\n"
     ]
    }
   ],
   "source": [
    "for idx, col in enumerate(df.columns):\n",
    "\tprint(idx)\n",
    "\tprint(col)"
   ],
   "metadata": {
    "collapsed": false
   }
  },
  {
   "cell_type": "markdown",
   "source": [
    "## hg38 Siavash"
   ],
   "metadata": {
    "collapsed": false
   }
  },
  {
   "cell_type": "code",
   "execution_count": 3,
   "outputs": [],
   "source": [
    "df = pd.read_csv('genes_siavash.bed', sep='\\t', names=['chr', 'start', 'end', 'gene_name'])"
   ],
   "metadata": {
    "collapsed": false
   }
  },
  {
   "cell_type": "code",
   "execution_count": 4,
   "outputs": [
    {
     "data": {
      "text/plain": "         chr      start        end  gene_name\n0       chr1      14361      29370     WASH7P\n1       chr1      17368      17436  MIR6859-1\n2       chr1      17368      17436  MIR6859-2\n3       chr1      17368      17436  MIR6859-3\n4       chr1      17368      17436  MIR6859-4\n...      ...        ...        ...        ...\n52288   chr4  122152331  122364167      BLTP1\n52289  chr16   30370934   30377991      MYL11\n52290  chr14   93651319   93654808      LYSET\n52291  chrMT          0          0     MT-TL1\n52292  chrMT          0          0      MT-TP\n\n[52293 rows x 4 columns]",
      "text/html": "<div>\n<style scoped>\n    .dataframe tbody tr th:only-of-type {\n        vertical-align: middle;\n    }\n\n    .dataframe tbody tr th {\n        vertical-align: top;\n    }\n\n    .dataframe thead th {\n        text-align: right;\n    }\n</style>\n<table border=\"1\" class=\"dataframe\">\n  <thead>\n    <tr style=\"text-align: right;\">\n      <th></th>\n      <th>chr</th>\n      <th>start</th>\n      <th>end</th>\n      <th>gene_name</th>\n    </tr>\n  </thead>\n  <tbody>\n    <tr>\n      <th>0</th>\n      <td>chr1</td>\n      <td>14361</td>\n      <td>29370</td>\n      <td>WASH7P</td>\n    </tr>\n    <tr>\n      <th>1</th>\n      <td>chr1</td>\n      <td>17368</td>\n      <td>17436</td>\n      <td>MIR6859-1</td>\n    </tr>\n    <tr>\n      <th>2</th>\n      <td>chr1</td>\n      <td>17368</td>\n      <td>17436</td>\n      <td>MIR6859-2</td>\n    </tr>\n    <tr>\n      <th>3</th>\n      <td>chr1</td>\n      <td>17368</td>\n      <td>17436</td>\n      <td>MIR6859-3</td>\n    </tr>\n    <tr>\n      <th>4</th>\n      <td>chr1</td>\n      <td>17368</td>\n      <td>17436</td>\n      <td>MIR6859-4</td>\n    </tr>\n    <tr>\n      <th>...</th>\n      <td>...</td>\n      <td>...</td>\n      <td>...</td>\n      <td>...</td>\n    </tr>\n    <tr>\n      <th>52288</th>\n      <td>chr4</td>\n      <td>122152331</td>\n      <td>122364167</td>\n      <td>BLTP1</td>\n    </tr>\n    <tr>\n      <th>52289</th>\n      <td>chr16</td>\n      <td>30370934</td>\n      <td>30377991</td>\n      <td>MYL11</td>\n    </tr>\n    <tr>\n      <th>52290</th>\n      <td>chr14</td>\n      <td>93651319</td>\n      <td>93654808</td>\n      <td>LYSET</td>\n    </tr>\n    <tr>\n      <th>52291</th>\n      <td>chrMT</td>\n      <td>0</td>\n      <td>0</td>\n      <td>MT-TL1</td>\n    </tr>\n    <tr>\n      <th>52292</th>\n      <td>chrMT</td>\n      <td>0</td>\n      <td>0</td>\n      <td>MT-TP</td>\n    </tr>\n  </tbody>\n</table>\n<p>52293 rows × 4 columns</p>\n</div>"
     },
     "execution_count": 4,
     "metadata": {},
     "output_type": "execute_result"
    }
   ],
   "source": [
    "df"
   ],
   "metadata": {
    "collapsed": false
   }
  },
  {
   "cell_type": "code",
   "execution_count": 9,
   "outputs": [],
   "source": [
    "filtered_df = df[~df['gene_name'].str.startswith(tuple(['MIR', 'LINC', 'LOC']))]"
   ],
   "metadata": {
    "collapsed": false
   }
  },
  {
   "cell_type": "code",
   "execution_count": 10,
   "outputs": [
    {
     "data": {
      "text/plain": "         chr      start        end gene_name\n0       chr1      14361      29370    WASH7P\n9       chr1      34610      36081   FAM138A\n10      chr1      34610      36081   FAM138F\n11      chr1      34610      36081   FAM138C\n13      chrY   13248378   13480670       UTY\n...      ...        ...        ...       ...\n52288   chr4  122152331  122364167     BLTP1\n52289  chr16   30370934   30377991     MYL11\n52290  chr14   93651319   93654808     LYSET\n52291  chrMT          0          0    MT-TL1\n52292  chrMT          0          0     MT-TP\n\n[45194 rows x 4 columns]",
      "text/html": "<div>\n<style scoped>\n    .dataframe tbody tr th:only-of-type {\n        vertical-align: middle;\n    }\n\n    .dataframe tbody tr th {\n        vertical-align: top;\n    }\n\n    .dataframe thead th {\n        text-align: right;\n    }\n</style>\n<table border=\"1\" class=\"dataframe\">\n  <thead>\n    <tr style=\"text-align: right;\">\n      <th></th>\n      <th>chr</th>\n      <th>start</th>\n      <th>end</th>\n      <th>gene_name</th>\n    </tr>\n  </thead>\n  <tbody>\n    <tr>\n      <th>0</th>\n      <td>chr1</td>\n      <td>14361</td>\n      <td>29370</td>\n      <td>WASH7P</td>\n    </tr>\n    <tr>\n      <th>9</th>\n      <td>chr1</td>\n      <td>34610</td>\n      <td>36081</td>\n      <td>FAM138A</td>\n    </tr>\n    <tr>\n      <th>10</th>\n      <td>chr1</td>\n      <td>34610</td>\n      <td>36081</td>\n      <td>FAM138F</td>\n    </tr>\n    <tr>\n      <th>11</th>\n      <td>chr1</td>\n      <td>34610</td>\n      <td>36081</td>\n      <td>FAM138C</td>\n    </tr>\n    <tr>\n      <th>13</th>\n      <td>chrY</td>\n      <td>13248378</td>\n      <td>13480670</td>\n      <td>UTY</td>\n    </tr>\n    <tr>\n      <th>...</th>\n      <td>...</td>\n      <td>...</td>\n      <td>...</td>\n      <td>...</td>\n    </tr>\n    <tr>\n      <th>52288</th>\n      <td>chr4</td>\n      <td>122152331</td>\n      <td>122364167</td>\n      <td>BLTP1</td>\n    </tr>\n    <tr>\n      <th>52289</th>\n      <td>chr16</td>\n      <td>30370934</td>\n      <td>30377991</td>\n      <td>MYL11</td>\n    </tr>\n    <tr>\n      <th>52290</th>\n      <td>chr14</td>\n      <td>93651319</td>\n      <td>93654808</td>\n      <td>LYSET</td>\n    </tr>\n    <tr>\n      <th>52291</th>\n      <td>chrMT</td>\n      <td>0</td>\n      <td>0</td>\n      <td>MT-TL1</td>\n    </tr>\n    <tr>\n      <th>52292</th>\n      <td>chrMT</td>\n      <td>0</td>\n      <td>0</td>\n      <td>MT-TP</td>\n    </tr>\n  </tbody>\n</table>\n<p>45194 rows × 4 columns</p>\n</div>"
     },
     "execution_count": 10,
     "metadata": {},
     "output_type": "execute_result"
    }
   ],
   "source": [
    "filtered_df"
   ],
   "metadata": {
    "collapsed": false
   }
  },
  {
   "cell_type": "code",
   "execution_count": 11,
   "outputs": [],
   "source": [
    "filtered_df.to_csv('genes_siavash_filtered.bed', sep='\\t', header=False, index=False)"
   ],
   "metadata": {
    "collapsed": false
   }
  },
  {
   "cell_type": "markdown",
   "source": [
    "## READ GTF"
   ],
   "metadata": {
    "collapsed": false,
    "pycharm": {
     "name": "#%% md\n"
    }
   }
  },
  {
   "cell_type": "markdown",
   "source": [
    "manually add: SPATA5, SPATA5L1"
   ],
   "metadata": {
    "collapsed": false,
    "pycharm": {
     "name": "#%% md\n"
    }
   }
  },
  {
   "cell_type": "code",
   "execution_count": null,
   "outputs": [],
   "source": [
    "with open('gencode.v46.basic.annotation.gtf') as fp_read:\n",
    "\tfp_read.readline()\n",
    "\tfp_read.readline()\n",
    "\tfp_read.readline()\n",
    "\tfp_read.readline()\n",
    "\tfp_read.readline()\n",
    "\tfor line in fp_read:\n",
    "\t\tline = line.replace('\\n', '')\n",
    "\t\tline = line.split('\\t')\n",
    "\t\tif line[2] == 'gene':\n",
    "\t\t\tif line[8].split('; ')[2].split('\"')[1] == 'MT-TP':\n",
    "\t\t\t\tprint(line)"
   ],
   "metadata": {
    "collapsed": false,
    "pycharm": {
     "name": "#%%\n"
    }
   }
  },
  {
   "cell_type": "code",
   "execution_count": null,
   "outputs": [],
   "source": [
    "protein_genes = []\n",
    "chrom = []\n",
    "start = []\n",
    "end = []\n",
    "with open('gencode.v46.basic.annotation.gtf') as fp_read:\n",
    "\tfp_read.readline()\n",
    "\tfp_read.readline()\n",
    "\tfp_read.readline()\n",
    "\tfp_read.readline()\n",
    "\tfp_read.readline()\n",
    "\tfor line in fp_read:\n",
    "\t\tline = line.replace('\\n', '')\n",
    "\t\tline = line.split('\\t')\n",
    "\t\tif line[2] == 'gene':\n",
    "\t\t\tif 'protein_coding' in line[8].split('; ')[1]:\n",
    "\t\t\t\t# print(line[8].split('; ')[2].split('\"')[1])\n",
    "\t\t\t\tprotein_genes.append(line[8].split('; ')[2].split('\"')[1])\n",
    "\t\t\t\tchrom.append(line[0])\n",
    "\t\t\t\tstart.append(line[3])\n",
    "\t\t\t\tend.append(line[4])\n",
    "protein_genes_entries = list(zip(chrom, start, end, protein_genes))"
   ],
   "metadata": {
    "collapsed": false,
    "pycharm": {
     "name": "#%%\n"
    }
   }
  },
  {
   "cell_type": "code",
   "execution_count": null,
   "outputs": [],
   "source": [
    "with open('gtf_protein_coding.bed', 'w') as fp_write:\n",
    "\tfor entry in protein_genes_entries:\n",
    "\t\tfp_write.write('\\t'.join(entry) + '\\n')"
   ],
   "metadata": {
    "collapsed": false,
    "pycharm": {
     "name": "#%%\n"
    }
   }
  },
  {
   "cell_type": "markdown",
   "source": [
    "## hg38 Siavash intersect with Protein Coding"
   ],
   "metadata": {
    "collapsed": false,
    "pycharm": {
     "name": "#%% md\n"
    }
   }
  },
  {
   "cell_type": "code",
   "execution_count": null,
   "outputs": [],
   "source": [
    "df = pd.read_csv('genes_siavash.bed', sep='\\t', names=['chr', 'start', 'end', 'gene_name'])"
   ],
   "metadata": {
    "collapsed": false,
    "pycharm": {
     "name": "#%%\n"
    }
   }
  },
  {
   "cell_type": "code",
   "execution_count": null,
   "outputs": [],
   "source": [
    "# check if there exists genes in DDG2P but not in Siavash's file\n",
    "ddg2p_df = pd.read_csv('DDG2P_14_11_2023.csv', sep='\\t')\n",
    "ddg2p_genes = ddg2p_df['gene symbol'].to_list()\n",
    "siavash_genes = df['gene_name'].to_list()\n",
    "for ddg2p_gene in ddg2p_genes:\n",
    "\tif ddg2p_gene.upper() not in siavash_genes:\n",
    "\t\tprint(ddg2p_gene)"
   ],
   "metadata": {
    "collapsed": false,
    "pycharm": {
     "name": "#%%\n"
    }
   }
  },
  {
   "cell_type": "code",
   "execution_count": null,
   "outputs": [],
   "source": [
    "for ddg2p_gene in ddg2p_genes:\n",
    "\tif ddg2p_gene.upper() not in protein_genes:\n",
    "\t\tprint(ddg2p_gene)"
   ],
   "metadata": {
    "collapsed": false,
    "pycharm": {
     "name": "#%%\n"
    }
   }
  },
  {
   "cell_type": "code",
   "execution_count": null,
   "outputs": [],
   "source": [
    "len(ddg2p_genes)"
   ],
   "metadata": {
    "collapsed": false,
    "pycharm": {
     "name": "#%%\n"
    }
   }
  },
  {
   "cell_type": "code",
   "execution_count": null,
   "outputs": [],
   "source": [
    "ddg2p_df"
   ],
   "metadata": {
    "collapsed": false,
    "pycharm": {
     "name": "#%%\n"
    }
   }
  },
  {
   "cell_type": "code",
   "execution_count": null,
   "outputs": [],
   "source": [],
   "metadata": {
    "collapsed": false,
    "pycharm": {
     "name": "#%%\n"
    }
   }
  },
  {
   "cell_type": "markdown",
   "source": [
    "manually add: SPATA5, SPATA5L1"
   ],
   "metadata": {
    "collapsed": false
   }
  },
  {
   "cell_type": "code",
   "execution_count": 61,
   "outputs": [
    {
     "name": "stdout",
     "output_type": "stream",
     "text": [
      "['chrM', 'ENSEMBL', 'gene', '15956', '16023', '.', '-', '.', 'gene_id \"ENSG00000210196.2\"; gene_type \"Mt_tRNA\"; gene_name \"MT-TP\"; level 3; hgnc_id \"HGNC:7494\";']\n"
     ]
    }
   ],
   "source": [
    "with open('gencode.v46.basic.annotation.gtf') as fp_read:\n",
    "\tfp_read.readline()\n",
    "\tfp_read.readline()\n",
    "\tfp_read.readline()\n",
    "\tfp_read.readline()\n",
    "\tfp_read.readline()\n",
    "\tfor line in fp_read:\n",
    "\t\tline = line.replace('\\n', '')\n",
    "\t\tline = line.split('\\t')\n",
    "\t\tif line[2] == 'gene':\n",
    "\t\t\tif line[8].split('; ')[2].split('\"')[1] == 'MT-TP':\n",
    "\t\t\t\tprint(line)"
   ],
   "metadata": {
    "collapsed": false
   }
  },
  {
   "cell_type": "code",
   "execution_count": 66,
   "outputs": [],
   "source": [
    "protein_genes = []\n",
    "chrom = []\n",
    "start = []\n",
    "end = []\n",
    "with open('gencode.v46.basic.annotation.gtf') as fp_read:\n",
    "\tfp_read.readline()\n",
    "\tfp_read.readline()\n",
    "\tfp_read.readline()\n",
    "\tfp_read.readline()\n",
    "\tfp_read.readline()\n",
    "\tfor line in fp_read:\n",
    "\t\tline = line.replace('\\n', '')\n",
    "\t\tline = line.split('\\t')\n",
    "\t\tif line[2] == 'gene':\n",
    "\t\t\tif 'protein_coding' in line[8].split('; ')[1]:\n",
    "\t\t\t\t# print(line[8].split('; ')[2].split('\"')[1])\n",
    "\t\t\t\tprotein_genes.append(line[8].split('; ')[2].split('\"')[1])\n",
    "\t\t\t\tchrom.append(line[0])\n",
    "\t\t\t\tstart.append(line[3])\n",
    "\t\t\t\tend.append(line[4])\n",
    "protein_genes_entries = list(zip(chrom, start, end, protein_genes))"
   ],
   "metadata": {
    "collapsed": false
   }
  },
  {
   "cell_type": "code",
   "execution_count": 68,
   "outputs": [],
   "source": [
    "with open('gtf_protein_coding.bed', 'w') as fp_write:\n",
    "\tfor entry in protein_genes_entries:\n",
    "\t\tfp_write.write('\\t'.join(entry) + '\\n')"
   ],
   "metadata": {
    "collapsed": false
   }
  },
  {
   "cell_type": "markdown",
   "source": [
    "## hg38 Siavash intersect with Protein Coding"
   ],
   "metadata": {
    "collapsed": false
   }
  },
  {
   "cell_type": "code",
   "execution_count": 5,
   "outputs": [],
   "source": [
    "df = pd.read_csv('genes_siavash.bed', sep='\\t', names=['chr', 'start', 'end', 'gene_name'])"
   ],
   "metadata": {
    "collapsed": false
   }
  },
  {
   "cell_type": "code",
   "execution_count": 16,
   "outputs": [
    {
     "name": "stdout",
     "output_type": "stream",
     "text": [
      "C12orf57\n"
     ]
    }
   ],
   "source": [
    "# check if there exists genes in DDG2P but not in Siavash's file\n",
    "ddg2p_df = pd.read_csv('DDG2P_14_11_2023.csv', sep='\\t')\n",
    "ddg2p_genes = ddg2p_df['gene symbol'].to_list()\n",
    "siavash_genes = df['gene_name'].to_list()\n",
    "for ddg2p_gene in ddg2p_genes:\n",
    "\tif ddg2p_gene.upper() not in siavash_genes:\n",
    "\t\tprint(ddg2p_gene)"
   ],
   "metadata": {
    "collapsed": false
   }
  },
  {
   "cell_type": "code",
   "execution_count": 42,
   "outputs": [
    {
     "name": "stdout",
     "output_type": "stream",
     "text": [
      "C12orf57\n",
      "MT-TP\n",
      "MIR17HG\n",
      "RNU4ATAC\n",
      "RMRP\n",
      "MIR184\n",
      "TERC\n",
      "SPATA5\n",
      "SNORD118\n",
      "MT-TL1\n",
      "RNU12\n",
      "SPATA5L1\n"
     ]
    }
   ],
   "source": [
    "for ddg2p_gene in ddg2p_genes:\n",
    "\tif ddg2p_gene.upper() not in protein_genes:\n",
    "\t\tprint(ddg2p_gene)"
   ],
   "metadata": {
    "collapsed": false
   }
  },
  {
   "cell_type": "code",
   "execution_count": 43,
   "outputs": [
    {
     "data": {
      "text/plain": "2660"
     },
     "execution_count": 43,
     "metadata": {},
     "output_type": "execute_result"
    }
   ],
   "source": [
    "len(ddg2p_genes)"
   ],
   "metadata": {
    "collapsed": false
   }
  },
  {
   "cell_type": "code",
   "execution_count": 44,
   "outputs": [
    {
     "data": {
      "text/plain": "     gene symbol gene mim                                       disease name  \\\n0           HMX1   142992                            OCULOAURICULAR SYNDROME   \n1           SLX4   613278             FANCONI ANEMIA COMPLEMENTATION GROUP P   \n2           ARG1   608313                                        ARGININEMIA   \n3            ATR   601215                             SECKEL SYNDROME TYPE 1   \n4          FANCB   300515                       FANCB-RELATED FANCONI ANEMIA   \n...          ...      ...                                                ...   \n2655      GABRA2   137140            GABRA2-related epileptic encephalopathy   \n2656       LMOD2   608006     LMOD2-related infantile dilated cardiomyopathy   \n2657      TSPEAR   612920  TSPEAR-related ectodermal dysplasia and tooth ...   \n2658     RABGAP1   615882  RABGAP1-related neurodevelopmental disorder wi...   \n2659       FOSL2   601575  FOSL2-related neurodevelopmental disorder with...   \n\n         disease mim confidence category    allelic requirement  \\\n0             612109              strong    biallelic_autosomal   \n1             613951          definitive    biallelic_autosomal   \n2             207800          definitive    biallelic_autosomal   \n3             210600              strong    biallelic_autosomal   \n4             229139          definitive      monoallelic_X_hem   \n...              ...                 ...                    ...   \n2655  No disease mim              strong  monoallelic_autosomal   \n2656  No disease mim          definitive    biallelic_autosomal   \n2657  No disease mim              strong    biallelic_autosomal   \n2658  No disease mim            moderate    biallelic_autosomal   \n2659  No disease mim            moderate  monoallelic_autosomal   \n\n                                   mutation consequence  \\\n0                                   absent gene product   \n1                                   absent gene product   \n2                                   absent gene product   \n3                                   absent gene product   \n4                                   absent gene product   \n...                                                 ...   \n2655                     altered gene product structure   \n2656                                absent gene product   \n2657  absent gene product;altered gene product struc...   \n2658                                absent gene product   \n2659                     altered gene product structure   \n\n                                             phenotypes  \\\n0     HP:0000556;HP:0000007;HP:0004328;HP:0000482;HP...   \n1     HP:0002984;HP:0000414;HP:0000347;HP:0004322;HP...   \n2     HP:0000007;HP:0001249;HP:0002013;HP:0000752;HP...   \n3     HP:0010230;HP:0000347;HP:0001763;HP:0000175;HP...   \n4                                                   NaN   \n...                                                 ...   \n2655                                                NaN   \n2656                                                NaN   \n2657                                                NaN   \n2658                                                NaN   \n2659                                                NaN   \n\n                                 organ specificity list  \\\n0                                               Eye;Ear   \n1           Bone Marrow/Immune;Skeleton;Brain/Cognition   \n2                   Endocrine/Metabolic;Brain/Cognition   \n3                         Face;Skeleton;Brain/Cognition   \n4     Bone Marrow/Immune;Skeleton;Cancer predisposition   \n...                                                 ...   \n2655                                                NaN   \n2656                                                NaN   \n2657                                                NaN   \n2658                                                NaN   \n2659                                                NaN   \n\n                                             pmids panel     prev symbols  \\\n0                       25574057;29140751;18423520    DD              NaN   \n1                                21240275;21240277    DD           BTBD12   \n2         10502833;1598908;7649538;2365823;1463019    DD              NaN   \n3                                              NaN    DD              NaN   \n4                                         16679491    DD              NaN   \n...                                            ...   ...              ...   \n2655                    29422393;29961870;31032849    DD              NaN   \n2656  35082396;37296576;31517052;34888509;35188328    DD              NaN   \n2657                    27736875;34042254;37009414    DD  C21orf29;DFNB98   \n2658                                      36083289    DD              NaN   \n2659                                      36197437    DD              NaN   \n\n      hgnc id gene disease pair entry date cross cutting modifier  \\\n0        5017              7/22/2015 16:14                    NaN   \n1       23845              7/22/2015 16:14                    NaN   \n2         663              7/22/2015 16:14                    NaN   \n3         882              7/22/2015 16:14                    NaN   \n4        3583              7/22/2015 16:14                    NaN   \n...       ...                          ...                    ...   \n2655     4076              8/16/2023 12:41      typically de novo   \n2656     6648              8/16/2023 12:45                    NaN   \n2657     1268              8/16/2023 12:51                    NaN   \n2658    17155              11/8/2023 17:54                    NaN   \n2659     3798              11/8/2023 17:57                    NaN   \n\n               mutation consequence flag confidence value flag comments  \\\n0                                    NaN                   NaN      NaN   \n1                                    NaN                   NaN      NaN   \n2                                    NaN                   NaN      NaN   \n3                                    NaN                   NaN      NaN   \n4                                    NaN                   NaN      NaN   \n...                                  ...                   ...      ...   \n2655  restricted repertoire of mutations                   NaN      NaN   \n2656                                 NaN                   NaN      NaN   \n2657                                 NaN                   NaN      NaN   \n2658                                 NaN                   NaN      NaN   \n2659                                 NaN                   NaN      NaN   \n\n                                    variant consequence disease ontology  \n0                              loss_of_function_variant              NaN  \n1                              loss_of_function_variant              NaN  \n2                              loss_of_function_variant              NaN  \n3                              loss_of_function_variant              NaN  \n4                              loss_of_function_variant              NaN  \n...                                                 ...              ...  \n2655                                   missense_variant              NaN  \n2656  splice_region_variant;stop_gained_NMD_triggeri...              NaN  \n2657  missense_variant;stop_gained_NMD_triggering;fr...              NaN  \n2658  splice_acceptor_variant;splice_donor_variant;s...              NaN  \n2659  stop_gained_NMD_escaping;frameshift_variant_NM...              NaN  \n\n[2660 rows x 20 columns]",
      "text/html": "<div>\n<style scoped>\n    .dataframe tbody tr th:only-of-type {\n        vertical-align: middle;\n    }\n\n    .dataframe tbody tr th {\n        vertical-align: top;\n    }\n\n    .dataframe thead th {\n        text-align: right;\n    }\n</style>\n<table border=\"1\" class=\"dataframe\">\n  <thead>\n    <tr style=\"text-align: right;\">\n      <th></th>\n      <th>gene symbol</th>\n      <th>gene mim</th>\n      <th>disease name</th>\n      <th>disease mim</th>\n      <th>confidence category</th>\n      <th>allelic requirement</th>\n      <th>mutation consequence</th>\n      <th>phenotypes</th>\n      <th>organ specificity list</th>\n      <th>pmids</th>\n      <th>panel</th>\n      <th>prev symbols</th>\n      <th>hgnc id</th>\n      <th>gene disease pair entry date</th>\n      <th>cross cutting modifier</th>\n      <th>mutation consequence flag</th>\n      <th>confidence value flag</th>\n      <th>comments</th>\n      <th>variant consequence</th>\n      <th>disease ontology</th>\n    </tr>\n  </thead>\n  <tbody>\n    <tr>\n      <th>0</th>\n      <td>HMX1</td>\n      <td>142992</td>\n      <td>OCULOAURICULAR SYNDROME</td>\n      <td>612109</td>\n      <td>strong</td>\n      <td>biallelic_autosomal</td>\n      <td>absent gene product</td>\n      <td>HP:0000556;HP:0000007;HP:0004328;HP:0000482;HP...</td>\n      <td>Eye;Ear</td>\n      <td>25574057;29140751;18423520</td>\n      <td>DD</td>\n      <td>NaN</td>\n      <td>5017</td>\n      <td>7/22/2015 16:14</td>\n      <td>NaN</td>\n      <td>NaN</td>\n      <td>NaN</td>\n      <td>NaN</td>\n      <td>loss_of_function_variant</td>\n      <td>NaN</td>\n    </tr>\n    <tr>\n      <th>1</th>\n      <td>SLX4</td>\n      <td>613278</td>\n      <td>FANCONI ANEMIA COMPLEMENTATION GROUP P</td>\n      <td>613951</td>\n      <td>definitive</td>\n      <td>biallelic_autosomal</td>\n      <td>absent gene product</td>\n      <td>HP:0002984;HP:0000414;HP:0000347;HP:0004322;HP...</td>\n      <td>Bone Marrow/Immune;Skeleton;Brain/Cognition</td>\n      <td>21240275;21240277</td>\n      <td>DD</td>\n      <td>BTBD12</td>\n      <td>23845</td>\n      <td>7/22/2015 16:14</td>\n      <td>NaN</td>\n      <td>NaN</td>\n      <td>NaN</td>\n      <td>NaN</td>\n      <td>loss_of_function_variant</td>\n      <td>NaN</td>\n    </tr>\n    <tr>\n      <th>2</th>\n      <td>ARG1</td>\n      <td>608313</td>\n      <td>ARGININEMIA</td>\n      <td>207800</td>\n      <td>definitive</td>\n      <td>biallelic_autosomal</td>\n      <td>absent gene product</td>\n      <td>HP:0000007;HP:0001249;HP:0002013;HP:0000752;HP...</td>\n      <td>Endocrine/Metabolic;Brain/Cognition</td>\n      <td>10502833;1598908;7649538;2365823;1463019</td>\n      <td>DD</td>\n      <td>NaN</td>\n      <td>663</td>\n      <td>7/22/2015 16:14</td>\n      <td>NaN</td>\n      <td>NaN</td>\n      <td>NaN</td>\n      <td>NaN</td>\n      <td>loss_of_function_variant</td>\n      <td>NaN</td>\n    </tr>\n    <tr>\n      <th>3</th>\n      <td>ATR</td>\n      <td>601215</td>\n      <td>SECKEL SYNDROME TYPE 1</td>\n      <td>210600</td>\n      <td>strong</td>\n      <td>biallelic_autosomal</td>\n      <td>absent gene product</td>\n      <td>HP:0010230;HP:0000347;HP:0001763;HP:0000175;HP...</td>\n      <td>Face;Skeleton;Brain/Cognition</td>\n      <td>NaN</td>\n      <td>DD</td>\n      <td>NaN</td>\n      <td>882</td>\n      <td>7/22/2015 16:14</td>\n      <td>NaN</td>\n      <td>NaN</td>\n      <td>NaN</td>\n      <td>NaN</td>\n      <td>loss_of_function_variant</td>\n      <td>NaN</td>\n    </tr>\n    <tr>\n      <th>4</th>\n      <td>FANCB</td>\n      <td>300515</td>\n      <td>FANCB-RELATED FANCONI ANEMIA</td>\n      <td>229139</td>\n      <td>definitive</td>\n      <td>monoallelic_X_hem</td>\n      <td>absent gene product</td>\n      <td>NaN</td>\n      <td>Bone Marrow/Immune;Skeleton;Cancer predisposition</td>\n      <td>16679491</td>\n      <td>DD</td>\n      <td>NaN</td>\n      <td>3583</td>\n      <td>7/22/2015 16:14</td>\n      <td>NaN</td>\n      <td>NaN</td>\n      <td>NaN</td>\n      <td>NaN</td>\n      <td>loss_of_function_variant</td>\n      <td>NaN</td>\n    </tr>\n    <tr>\n      <th>...</th>\n      <td>...</td>\n      <td>...</td>\n      <td>...</td>\n      <td>...</td>\n      <td>...</td>\n      <td>...</td>\n      <td>...</td>\n      <td>...</td>\n      <td>...</td>\n      <td>...</td>\n      <td>...</td>\n      <td>...</td>\n      <td>...</td>\n      <td>...</td>\n      <td>...</td>\n      <td>...</td>\n      <td>...</td>\n      <td>...</td>\n      <td>...</td>\n      <td>...</td>\n    </tr>\n    <tr>\n      <th>2655</th>\n      <td>GABRA2</td>\n      <td>137140</td>\n      <td>GABRA2-related epileptic encephalopathy</td>\n      <td>No disease mim</td>\n      <td>strong</td>\n      <td>monoallelic_autosomal</td>\n      <td>altered gene product structure</td>\n      <td>NaN</td>\n      <td>NaN</td>\n      <td>29422393;29961870;31032849</td>\n      <td>DD</td>\n      <td>NaN</td>\n      <td>4076</td>\n      <td>8/16/2023 12:41</td>\n      <td>typically de novo</td>\n      <td>restricted repertoire of mutations</td>\n      <td>NaN</td>\n      <td>NaN</td>\n      <td>missense_variant</td>\n      <td>NaN</td>\n    </tr>\n    <tr>\n      <th>2656</th>\n      <td>LMOD2</td>\n      <td>608006</td>\n      <td>LMOD2-related infantile dilated cardiomyopathy</td>\n      <td>No disease mim</td>\n      <td>definitive</td>\n      <td>biallelic_autosomal</td>\n      <td>absent gene product</td>\n      <td>NaN</td>\n      <td>NaN</td>\n      <td>35082396;37296576;31517052;34888509;35188328</td>\n      <td>DD</td>\n      <td>NaN</td>\n      <td>6648</td>\n      <td>8/16/2023 12:45</td>\n      <td>NaN</td>\n      <td>NaN</td>\n      <td>NaN</td>\n      <td>NaN</td>\n      <td>splice_region_variant;stop_gained_NMD_triggeri...</td>\n      <td>NaN</td>\n    </tr>\n    <tr>\n      <th>2657</th>\n      <td>TSPEAR</td>\n      <td>612920</td>\n      <td>TSPEAR-related ectodermal dysplasia and tooth ...</td>\n      <td>No disease mim</td>\n      <td>strong</td>\n      <td>biallelic_autosomal</td>\n      <td>absent gene product;altered gene product struc...</td>\n      <td>NaN</td>\n      <td>NaN</td>\n      <td>27736875;34042254;37009414</td>\n      <td>DD</td>\n      <td>C21orf29;DFNB98</td>\n      <td>1268</td>\n      <td>8/16/2023 12:51</td>\n      <td>NaN</td>\n      <td>NaN</td>\n      <td>NaN</td>\n      <td>NaN</td>\n      <td>missense_variant;stop_gained_NMD_triggering;fr...</td>\n      <td>NaN</td>\n    </tr>\n    <tr>\n      <th>2658</th>\n      <td>RABGAP1</td>\n      <td>615882</td>\n      <td>RABGAP1-related neurodevelopmental disorder wi...</td>\n      <td>No disease mim</td>\n      <td>moderate</td>\n      <td>biallelic_autosomal</td>\n      <td>absent gene product</td>\n      <td>NaN</td>\n      <td>NaN</td>\n      <td>36083289</td>\n      <td>DD</td>\n      <td>NaN</td>\n      <td>17155</td>\n      <td>11/8/2023 17:54</td>\n      <td>NaN</td>\n      <td>NaN</td>\n      <td>NaN</td>\n      <td>NaN</td>\n      <td>splice_acceptor_variant;splice_donor_variant;s...</td>\n      <td>NaN</td>\n    </tr>\n    <tr>\n      <th>2659</th>\n      <td>FOSL2</td>\n      <td>601575</td>\n      <td>FOSL2-related neurodevelopmental disorder with...</td>\n      <td>No disease mim</td>\n      <td>moderate</td>\n      <td>monoallelic_autosomal</td>\n      <td>altered gene product structure</td>\n      <td>NaN</td>\n      <td>NaN</td>\n      <td>36197437</td>\n      <td>DD</td>\n      <td>NaN</td>\n      <td>3798</td>\n      <td>11/8/2023 17:57</td>\n      <td>NaN</td>\n      <td>NaN</td>\n      <td>NaN</td>\n      <td>NaN</td>\n      <td>stop_gained_NMD_escaping;frameshift_variant_NM...</td>\n      <td>NaN</td>\n    </tr>\n  </tbody>\n</table>\n<p>2660 rows × 20 columns</p>\n</div>"
     },
     "execution_count": 44,
     "metadata": {},
     "output_type": "execute_result"
    }
   ],
   "source": [
    "ddg2p_df"
   ],
   "metadata": {
    "collapsed": false
   }
  },
  {
   "cell_type": "code",
   "execution_count": null,
   "outputs": [],
   "source": [],
   "metadata": {
    "collapsed": false
   }
  }
 ],
 "metadata": {
  "kernelspec": {
   "display_name": "Python 3",
   "language": "python",
   "name": "python3"
  },
  "language_info": {
   "codemirror_mode": {
    "name": "ipython",
    "version": 2
   },
   "file_extension": ".py",
   "mimetype": "text/x-python",
   "name": "python",
   "nbconvert_exporter": "python",
   "pygments_lexer": "ipython2",
   "version": "2.7.6"
  }
 },
 "nbformat": 4,
 "nbformat_minor": 0
}
