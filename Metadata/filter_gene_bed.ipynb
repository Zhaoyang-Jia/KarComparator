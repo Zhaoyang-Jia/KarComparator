{
 "cells": [
  {
   "cell_type": "code",
   "execution_count": 2,
   "outputs": [],
   "source": [
    "import pandas as pd"
   ],
   "metadata": {
    "collapsed": false
   }
  },
  {
   "cell_type": "markdown",
   "source": [
    "## hg38 UCSC"
   ],
   "metadata": {
    "collapsed": false
   }
  },
  {
   "cell_type": "code",
   "execution_count": 29,
   "outputs": [],
   "source": [
    "df = pd.read_csv('hg38.bed', sep='\\t', usecols=[0, 1, 2, 3, 23], names=['chr', 'start', 'end', 'gene_name', 'gene_type'])"
   ],
   "metadata": {
    "collapsed": false
   }
  },
  {
   "cell_type": "code",
   "execution_count": 30,
   "outputs": [
    {
     "data": {
      "text/plain": "array(['Gene', 'tRNA', 'V_segment', 'D_segment', 'J_segment', 'C_region',\n       'regulatory', 'rRNA'], dtype=object)"
     },
     "execution_count": 30,
     "metadata": {},
     "output_type": "execute_result"
    }
   ],
   "source": [
    "df['gene_type'].unique()"
   ],
   "metadata": {
    "collapsed": false
   }
  },
  {
   "cell_type": "code",
   "execution_count": 25,
   "outputs": [
    {
     "data": {
      "text/plain": "                       chr   start     end    gene_name gene_type\n0                     chr1   52452   53396       OR4G4P      Gene\n1                     chr1   63015   63885      OR4G11P      Gene\n2                     chr1  126641  129225  SEPTIN14P18      Gene\n3                     chr1  131067  134836       CICP27      Gene\n4                     chr1  157783  157887   RNU6-1100P      Gene\n...                    ...     ...     ...          ...       ...\n18939  chrY_MU273398v1_fix  245358  248173       TSPY7P      Gene\n18940  chrY_MU273398v1_fix  732247  735062       TSPY6P      Gene\n18941  chrY_MU273398v1_fix  772715  775527      TSPY15P      Gene\n18942  chrY_MU273398v1_fix  848836  851006      TSPY25P      Gene\n18943  chrY_MU273398v1_fix  864902  865415      TSPY16P      Gene\n\n[18944 rows x 5 columns]",
      "text/html": "<div>\n<style scoped>\n    .dataframe tbody tr th:only-of-type {\n        vertical-align: middle;\n    }\n\n    .dataframe tbody tr th {\n        vertical-align: top;\n    }\n\n    .dataframe thead th {\n        text-align: right;\n    }\n</style>\n<table border=\"1\" class=\"dataframe\">\n  <thead>\n    <tr style=\"text-align: right;\">\n      <th></th>\n      <th>chr</th>\n      <th>start</th>\n      <th>end</th>\n      <th>gene_name</th>\n      <th>gene_type</th>\n    </tr>\n  </thead>\n  <tbody>\n    <tr>\n      <th>0</th>\n      <td>chr1</td>\n      <td>52452</td>\n      <td>53396</td>\n      <td>OR4G4P</td>\n      <td>Gene</td>\n    </tr>\n    <tr>\n      <th>1</th>\n      <td>chr1</td>\n      <td>63015</td>\n      <td>63885</td>\n      <td>OR4G11P</td>\n      <td>Gene</td>\n    </tr>\n    <tr>\n      <th>2</th>\n      <td>chr1</td>\n      <td>126641</td>\n      <td>129225</td>\n      <td>SEPTIN14P18</td>\n      <td>Gene</td>\n    </tr>\n    <tr>\n      <th>3</th>\n      <td>chr1</td>\n      <td>131067</td>\n      <td>134836</td>\n      <td>CICP27</td>\n      <td>Gene</td>\n    </tr>\n    <tr>\n      <th>4</th>\n      <td>chr1</td>\n      <td>157783</td>\n      <td>157887</td>\n      <td>RNU6-1100P</td>\n      <td>Gene</td>\n    </tr>\n    <tr>\n      <th>...</th>\n      <td>...</td>\n      <td>...</td>\n      <td>...</td>\n      <td>...</td>\n      <td>...</td>\n    </tr>\n    <tr>\n      <th>18939</th>\n      <td>chrY_MU273398v1_fix</td>\n      <td>245358</td>\n      <td>248173</td>\n      <td>TSPY7P</td>\n      <td>Gene</td>\n    </tr>\n    <tr>\n      <th>18940</th>\n      <td>chrY_MU273398v1_fix</td>\n      <td>732247</td>\n      <td>735062</td>\n      <td>TSPY6P</td>\n      <td>Gene</td>\n    </tr>\n    <tr>\n      <th>18941</th>\n      <td>chrY_MU273398v1_fix</td>\n      <td>772715</td>\n      <td>775527</td>\n      <td>TSPY15P</td>\n      <td>Gene</td>\n    </tr>\n    <tr>\n      <th>18942</th>\n      <td>chrY_MU273398v1_fix</td>\n      <td>848836</td>\n      <td>851006</td>\n      <td>TSPY25P</td>\n      <td>Gene</td>\n    </tr>\n    <tr>\n      <th>18943</th>\n      <td>chrY_MU273398v1_fix</td>\n      <td>864902</td>\n      <td>865415</td>\n      <td>TSPY16P</td>\n      <td>Gene</td>\n    </tr>\n  </tbody>\n</table>\n<p>18944 rows × 5 columns</p>\n</div>"
     },
     "execution_count": 25,
     "metadata": {},
     "output_type": "execute_result"
    }
   ],
   "source": [
    "df"
   ],
   "metadata": {
    "collapsed": false
   }
  },
  {
   "cell_type": "code",
   "execution_count": 26,
   "outputs": [],
   "source": [
    "coding_gene_df = df[df['gene_type'] == 'Gene']\n",
    "coding_gene_df.to_csv('coding_genes.bed', sep='\\t', header=False, index=False, columns=['chr', 'start', 'end', 'gene_name'])"
   ],
   "metadata": {
    "collapsed": false
   }
  },
  {
   "cell_type": "code",
   "execution_count": 11,
   "outputs": [
    {
     "name": "stdout",
     "output_type": "stream",
     "text": [
      "0\n",
      "chr1\n",
      "1\n",
      "52452\n",
      "2\n",
      "53396\n",
      "3\n",
      "OR4G4P\n",
      "4\n",
      "0\n",
      "5\n",
      "+\n",
      "6\n",
      "53396.1\n",
      "7\n",
      "53396.2\n",
      "8\n",
      "0.1\n",
      "9\n",
      "1\n",
      "10\n",
      "944,\n",
      "11\n",
      "0,\n",
      "12\n",
      "OR4G4P.1\n",
      "13\n",
      "79504\n",
      "14\n",
      "Unnamed: 14\n",
      "15\n",
      "HGNC:14822\n",
      "16\n",
      "Unnamed: 16\n",
      "17\n",
      "olfactory receptor family 4 subfamily G member 4 pseudogene\n",
      "18\n",
      "Unnamed: 18\n",
      "19\n",
      "Unnamed: 19\n",
      "20\n",
      "Unnamed: 20\n",
      "21\n",
      "Unnamed: 21\n",
      "22\n",
      "Unnamed: 22\n",
      "23\n",
      "Gene\n",
      "24\n",
      "pseudogene\n",
      "25\n",
      "true\n",
      "26\n",
      "Unnamed: 26\n",
      "27\n",
      "Unnamed: 27\n",
      "28\n",
      "Unnamed: 28\n",
      "29\n",
      "Unnamed: 29\n",
      "30\n",
      "Unnamed: 30\n",
      "31\n",
      "gene-OR4G4P\n"
     ]
    }
   ],
   "source": [
    "for idx, col in enumerate(df.columns):\n",
    "\tprint(idx)\n",
    "\tprint(col)"
   ],
   "metadata": {
    "collapsed": false
   }
  },
  {
   "cell_type": "markdown",
   "source": [
    "## hg38 Siavash"
   ],
   "metadata": {
    "collapsed": false
   }
  },
  {
   "cell_type": "code",
   "execution_count": 10,
   "outputs": [],
   "source": [
    "df = pd.read_csv('genes_siavash.bed', sep='\\t', names=['chr', 'start', 'end', 'gene_name'])"
   ],
   "metadata": {
    "collapsed": false
   }
  },
  {
   "cell_type": "code",
   "execution_count": 11,
   "outputs": [
    {
     "data": {
      "text/plain": "         chr      start        end  gene_name\n0       chr1      14361      29370     WASH7P\n1       chr1      17368      17436  MIR6859-1\n2       chr1      17368      17436  MIR6859-2\n3       chr1      17368      17436  MIR6859-3\n4       chr1      17368      17436  MIR6859-4\n...      ...        ...        ...        ...\n52288   chr4  122152331  122364167      BLTP1\n52289  chr16   30370934   30377991      MYL11\n52290  chr14   93651319   93654808      LYSET\n52291  chrMT          0          0     MT-TL1\n52292  chrMT          0          0      MT-TP\n\n[52293 rows x 4 columns]",
      "text/html": "<div>\n<style scoped>\n    .dataframe tbody tr th:only-of-type {\n        vertical-align: middle;\n    }\n\n    .dataframe tbody tr th {\n        vertical-align: top;\n    }\n\n    .dataframe thead th {\n        text-align: right;\n    }\n</style>\n<table border=\"1\" class=\"dataframe\">\n  <thead>\n    <tr style=\"text-align: right;\">\n      <th></th>\n      <th>chr</th>\n      <th>start</th>\n      <th>end</th>\n      <th>gene_name</th>\n    </tr>\n  </thead>\n  <tbody>\n    <tr>\n      <th>0</th>\n      <td>chr1</td>\n      <td>14361</td>\n      <td>29370</td>\n      <td>WASH7P</td>\n    </tr>\n    <tr>\n      <th>1</th>\n      <td>chr1</td>\n      <td>17368</td>\n      <td>17436</td>\n      <td>MIR6859-1</td>\n    </tr>\n    <tr>\n      <th>2</th>\n      <td>chr1</td>\n      <td>17368</td>\n      <td>17436</td>\n      <td>MIR6859-2</td>\n    </tr>\n    <tr>\n      <th>3</th>\n      <td>chr1</td>\n      <td>17368</td>\n      <td>17436</td>\n      <td>MIR6859-3</td>\n    </tr>\n    <tr>\n      <th>4</th>\n      <td>chr1</td>\n      <td>17368</td>\n      <td>17436</td>\n      <td>MIR6859-4</td>\n    </tr>\n    <tr>\n      <th>...</th>\n      <td>...</td>\n      <td>...</td>\n      <td>...</td>\n      <td>...</td>\n    </tr>\n    <tr>\n      <th>52288</th>\n      <td>chr4</td>\n      <td>122152331</td>\n      <td>122364167</td>\n      <td>BLTP1</td>\n    </tr>\n    <tr>\n      <th>52289</th>\n      <td>chr16</td>\n      <td>30370934</td>\n      <td>30377991</td>\n      <td>MYL11</td>\n    </tr>\n    <tr>\n      <th>52290</th>\n      <td>chr14</td>\n      <td>93651319</td>\n      <td>93654808</td>\n      <td>LYSET</td>\n    </tr>\n    <tr>\n      <th>52291</th>\n      <td>chrMT</td>\n      <td>0</td>\n      <td>0</td>\n      <td>MT-TL1</td>\n    </tr>\n    <tr>\n      <th>52292</th>\n      <td>chrMT</td>\n      <td>0</td>\n      <td>0</td>\n      <td>MT-TP</td>\n    </tr>\n  </tbody>\n</table>\n<p>52293 rows × 4 columns</p>\n</div>"
     },
     "execution_count": 11,
     "metadata": {},
     "output_type": "execute_result"
    }
   ],
   "source": [
    "df"
   ],
   "metadata": {
    "collapsed": false
   }
  },
  {
   "cell_type": "code",
   "execution_count": 12,
   "outputs": [],
   "source": [
    "filtered_df = df[~df['gene_name'].str.startswith(tuple(['MIR', 'LINC', 'LOC']))]"
   ],
   "metadata": {
    "collapsed": false
   }
  },
  {
   "cell_type": "code",
   "execution_count": 13,
   "outputs": [
    {
     "data": {
      "text/plain": "         chr      start        end gene_name\n0       chr1      14361      29370    WASH7P\n9       chr1      34610      36081   FAM138A\n10      chr1      34610      36081   FAM138F\n11      chr1      34610      36081   FAM138C\n13      chrY   13248378   13480670       UTY\n...      ...        ...        ...       ...\n52288   chr4  122152331  122364167     BLTP1\n52289  chr16   30370934   30377991     MYL11\n52290  chr14   93651319   93654808     LYSET\n52291  chrMT          0          0    MT-TL1\n52292  chrMT          0          0     MT-TP\n\n[45194 rows x 4 columns]",
      "text/html": "<div>\n<style scoped>\n    .dataframe tbody tr th:only-of-type {\n        vertical-align: middle;\n    }\n\n    .dataframe tbody tr th {\n        vertical-align: top;\n    }\n\n    .dataframe thead th {\n        text-align: right;\n    }\n</style>\n<table border=\"1\" class=\"dataframe\">\n  <thead>\n    <tr style=\"text-align: right;\">\n      <th></th>\n      <th>chr</th>\n      <th>start</th>\n      <th>end</th>\n      <th>gene_name</th>\n    </tr>\n  </thead>\n  <tbody>\n    <tr>\n      <th>0</th>\n      <td>chr1</td>\n      <td>14361</td>\n      <td>29370</td>\n      <td>WASH7P</td>\n    </tr>\n    <tr>\n      <th>9</th>\n      <td>chr1</td>\n      <td>34610</td>\n      <td>36081</td>\n      <td>FAM138A</td>\n    </tr>\n    <tr>\n      <th>10</th>\n      <td>chr1</td>\n      <td>34610</td>\n      <td>36081</td>\n      <td>FAM138F</td>\n    </tr>\n    <tr>\n      <th>11</th>\n      <td>chr1</td>\n      <td>34610</td>\n      <td>36081</td>\n      <td>FAM138C</td>\n    </tr>\n    <tr>\n      <th>13</th>\n      <td>chrY</td>\n      <td>13248378</td>\n      <td>13480670</td>\n      <td>UTY</td>\n    </tr>\n    <tr>\n      <th>...</th>\n      <td>...</td>\n      <td>...</td>\n      <td>...</td>\n      <td>...</td>\n    </tr>\n    <tr>\n      <th>52288</th>\n      <td>chr4</td>\n      <td>122152331</td>\n      <td>122364167</td>\n      <td>BLTP1</td>\n    </tr>\n    <tr>\n      <th>52289</th>\n      <td>chr16</td>\n      <td>30370934</td>\n      <td>30377991</td>\n      <td>MYL11</td>\n    </tr>\n    <tr>\n      <th>52290</th>\n      <td>chr14</td>\n      <td>93651319</td>\n      <td>93654808</td>\n      <td>LYSET</td>\n    </tr>\n    <tr>\n      <th>52291</th>\n      <td>chrMT</td>\n      <td>0</td>\n      <td>0</td>\n      <td>MT-TL1</td>\n    </tr>\n    <tr>\n      <th>52292</th>\n      <td>chrMT</td>\n      <td>0</td>\n      <td>0</td>\n      <td>MT-TP</td>\n    </tr>\n  </tbody>\n</table>\n<p>45194 rows × 4 columns</p>\n</div>"
     },
     "execution_count": 13,
     "metadata": {},
     "output_type": "execute_result"
    }
   ],
   "source": [
    "filtered_df"
   ],
   "metadata": {
    "collapsed": false
   }
  },
  {
   "cell_type": "code",
   "execution_count": 14,
   "outputs": [],
   "source": [
    "filtered_df.to_csv('genes_siavash_filtered.bed', sep='\\t', header=False, index=False)"
   ],
   "metadata": {
    "collapsed": false
   }
  },
  {
   "cell_type": "code",
   "execution_count": null,
   "outputs": [],
   "source": [],
   "metadata": {
    "collapsed": false
   }
  }
 ],
 "metadata": {
  "kernelspec": {
   "display_name": "Python 3",
   "language": "python",
   "name": "python3"
  },
  "language_info": {
   "codemirror_mode": {
    "name": "ipython",
    "version": 2
   },
   "file_extension": ".py",
   "mimetype": "text/x-python",
   "name": "python",
   "nbconvert_exporter": "python",
   "pygments_lexer": "ipython2",
   "version": "2.7.6"
  }
 },
 "nbformat": 4,
 "nbformat_minor": 0
}
