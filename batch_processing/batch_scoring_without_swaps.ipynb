{
 "cells": [
  {
   "cell_type": "code",
   "execution_count": 1,
   "outputs": [],
   "source": [
    "from Structures import *\n",
    "from read_KarSimulator_output import *\n",
    "from read_OMKar_output import *\n",
    "from dependent_clusters_processing import *\n",
    "from read_cluster_file import *\n",
    "from NW_aligner import *\n",
    "from bipartite_matching import *"
   ],
   "metadata": {
    "collapsed": false,
    "pycharm": {
     "name": "#%%\n"
    }
   }
  },
  {
   "cell_type": "code",
   "execution_count": 2,
   "outputs": [],
   "source": [
    "import os\n",
    "import sys"
   ],
   "metadata": {
    "collapsed": false,
    "pycharm": {
     "name": "#%%\n"
    }
   }
  },
  {
   "cell_type": "code",
   "execution_count": 9,
   "outputs": [],
   "source": [
    "karsim_folder = '../data_files/KarSimulator/'\n",
    "omkar_folder = '../data_files/OMKar/'\n",
    "forbidden_region_file = '../Metadata/acrocentric_telo_cen.bed'\n",
    "output_dir = 'cluster_files/'\n",
    "\n",
    "with open('clustering.log', 'w') as fp_write:\n",
    "\tsys.stdout = fp_write\n",
    "\tfor file in os.listdir(karsim_folder):\n",
    "\t\tfile_name = file.split('.')[0]\n",
    "\t\tkarsim_file_path = karsim_folder + file\n",
    "\t\tomkar_file_path = omkar_folder + file_name + '.1.txt'\n",
    "\n",
    "\t\tprint(file_name)\n",
    "\t\tkarsim_path_list = read_KarSimulator_output_to_path(karsim_file_path, forbidden_region_file)\n",
    "\t\tomkar_path_list = read_OMKar_output_to_path(omkar_file_path, forbidden_region_file)\n",
    "\t\tgenome_wide_mutual_breaking(karsim_path_list, omkar_path_list)\n",
    "\t\tform_dependent_clusters(karsim_path_list, omkar_path_list, output_dir, prefix=file_name)\n",
    "sys.stdout = sys.__stdout__"
   ],
   "metadata": {
    "collapsed": false,
    "pycharm": {
     "name": "#%%\n"
    }
   }
  },
  {
   "cell_type": "code",
   "execution_count": 8,
   "outputs": [
    {
     "ename": "AttributeError",
     "evalue": "'str' object has no attribute 'segment_type'",
     "output_type": "error",
     "traceback": [
      "\u001B[0;31m---------------------------------------------------------------------------\u001B[0m",
      "\u001B[0;31mAttributeError\u001B[0m                            Traceback (most recent call last)",
      "Input \u001B[0;32mIn [8]\u001B[0m, in \u001B[0;36m<cell line: 1>\u001B[0;34m()\u001B[0m\n\u001B[1;32m      2\u001B[0m \u001B[38;5;28mprint\u001B[39m(file\u001B[38;5;241m.\u001B[39msplit(\u001B[38;5;124m'\u001B[39m\u001B[38;5;124m.\u001B[39m\u001B[38;5;124m'\u001B[39m)[\u001B[38;5;241m0\u001B[39m])\n\u001B[1;32m      3\u001B[0m index_to_segment, karsim_path_list, omkar_path_list \u001B[38;5;241m=\u001B[39m read_cluster_file(\u001B[38;5;124m'\u001B[39m\u001B[38;5;124mcluster_files/\u001B[39m\u001B[38;5;124m'\u001B[39m \u001B[38;5;241m+\u001B[39m file)\n\u001B[0;32m----> 4\u001B[0m \u001B[43mhungarian_algorithm_for_cluster\u001B[49m\u001B[43m(\u001B[49m\u001B[43mkarsim_path_list\u001B[49m\u001B[43m,\u001B[49m\u001B[43m \u001B[49m\u001B[43momkar_path_list\u001B[49m\u001B[43m,\u001B[49m\u001B[43m \u001B[49m\u001B[43mindex_to_segment\u001B[49m\u001B[43m,\u001B[49m\u001B[43m \u001B[49m\u001B[43mverbose\u001B[49m\u001B[38;5;241;43m=\u001B[39;49m\u001B[38;5;28;43;01mTrue\u001B[39;49;00m\u001B[43m)\u001B[49m\n",
      "File \u001B[0;32m/media/zhaoyang-new/workspace/KarSim/KarComparator/bipartite_matching.py:72\u001B[0m, in \u001B[0;36mhungarian_algorithm_for_cluster\u001B[0;34m(path_list1, path_list2, index_to_segment, verbose)\u001B[0m\n\u001B[1;32m     67\u001B[0m \u001B[38;5;28;01mfor\u001B[39;00m i \u001B[38;5;129;01min\u001B[39;00m \u001B[38;5;28mrange\u001B[39m(\u001B[38;5;28mlen\u001B[39m(opt_col_ind)):\n\u001B[1;32m     68\u001B[0m     \u001B[38;5;28mprint\u001B[39m(\u001B[38;5;124m\"\u001B[39m\u001B[38;5;124malignment \u001B[39m\u001B[38;5;132;01m{}\u001B[39;00m\u001B[38;5;124m: \u001B[39m\u001B[38;5;132;01m{}\u001B[39;00m\u001B[38;5;124m, \u001B[39m\u001B[38;5;132;01m{}\u001B[39;00m\u001B[38;5;124m \u001B[39m\u001B[38;5;130;01m\\t\u001B[39;00m\u001B[38;5;124m cost: \u001B[39m\u001B[38;5;132;01m{}\u001B[39;00m\u001B[38;5;124m\"\u001B[39m\u001B[38;5;241m.\u001B[39mformat(i,\n\u001B[1;32m     69\u001B[0m                                                     path_list1[opt_row_ind[i]]\u001B[38;5;241m.\u001B[39mpath_name,\n\u001B[1;32m     70\u001B[0m                                                     path_list2[opt_col_ind[i]]\u001B[38;5;241m.\u001B[39mpath_name,\n\u001B[1;32m     71\u001B[0m                                                     cost_matrix[opt_row_ind[i]][opt_col_ind[i]]))\n\u001B[0;32m---> 72\u001B[0m     str1, str2 \u001B[38;5;241m=\u001B[39m \u001B[43mtostring_alignment\u001B[49m\u001B[43m(\u001B[49m\u001B[43mindex_to_segment\u001B[49m\u001B[43m,\u001B[49m\n\u001B[1;32m     73\u001B[0m \u001B[43m                                    \u001B[49m\u001B[43malignment_matrix\u001B[49m\u001B[43m[\u001B[49m\u001B[43mopt_row_ind\u001B[49m\u001B[43m[\u001B[49m\u001B[43mi\u001B[49m\u001B[43m]\u001B[49m\u001B[43m]\u001B[49m\u001B[43m[\u001B[49m\u001B[43mopt_col_ind\u001B[49m\u001B[43m[\u001B[49m\u001B[43mi\u001B[49m\u001B[43m]\u001B[49m\u001B[43m]\u001B[49m\u001B[43m[\u001B[49m\u001B[38;5;241;43m0\u001B[39;49m\u001B[43m]\u001B[49m\u001B[43m,\u001B[49m\n\u001B[1;32m     74\u001B[0m \u001B[43m                                    \u001B[49m\u001B[43malignment_matrix\u001B[49m\u001B[43m[\u001B[49m\u001B[43mopt_row_ind\u001B[49m\u001B[43m[\u001B[49m\u001B[43mi\u001B[49m\u001B[43m]\u001B[49m\u001B[43m]\u001B[49m\u001B[43m[\u001B[49m\u001B[43mopt_col_ind\u001B[49m\u001B[43m[\u001B[49m\u001B[43mi\u001B[49m\u001B[43m]\u001B[49m\u001B[43m]\u001B[49m\u001B[43m[\u001B[49m\u001B[38;5;241;43m1\u001B[39;49m\u001B[43m]\u001B[49m\u001B[43m)\u001B[49m\n\u001B[1;32m     75\u001B[0m     \u001B[38;5;28mprint\u001B[39m(str1)\n\u001B[1;32m     76\u001B[0m     \u001B[38;5;28mprint\u001B[39m(str2)\n",
      "File \u001B[0;32m/media/zhaoyang-new/workspace/KarSim/KarComparator/NW_aligner.py:136\u001B[0m, in \u001B[0;36mtostring_alignment\u001B[0;34m(index_to_segment, alignment_1, alignment_2)\u001B[0m\n\u001B[1;32m    134\u001B[0m appending_str \u001B[38;5;241m=\u001B[39m \u001B[38;5;124m\"\u001B[39m\u001B[38;5;124m\"\u001B[39m\n\u001B[1;32m    135\u001B[0m \u001B[38;5;66;03m# to denote no penalty for certain regions\u001B[39;00m\n\u001B[0;32m--> 136\u001B[0m \u001B[38;5;28;01mif\u001B[39;00m \u001B[38;5;28;43many\u001B[39;49m\u001B[43m(\u001B[49m\u001B[43msubstring\u001B[49m\u001B[43m \u001B[49m\u001B[38;5;129;43;01min\u001B[39;49;00m\u001B[43m \u001B[49m\u001B[43msegment\u001B[49m\u001B[38;5;241;43m.\u001B[39;49m\u001B[43msegment_type\u001B[49m\u001B[43m \u001B[49m\u001B[38;5;28;43;01mfor\u001B[39;49;00m\u001B[43m \u001B[49m\u001B[43msubstring\u001B[49m\u001B[43m \u001B[49m\u001B[38;5;129;43;01min\u001B[39;49;00m\u001B[43m \u001B[49m\u001B[43mforbidden_comparison_region_types\u001B[49m\u001B[43m)\u001B[49m:\n\u001B[1;32m    137\u001B[0m     appending_str \u001B[38;5;241m+\u001B[39m\u001B[38;5;241m=\u001B[39m \u001B[38;5;124m\"\u001B[39m\u001B[38;5;124mx\u001B[39m\u001B[38;5;124m\"\u001B[39m\n\u001B[1;32m    138\u001B[0m \u001B[38;5;66;03m# get segment index\u001B[39;00m\n",
      "File \u001B[0;32m/media/zhaoyang-new/workspace/KarSim/KarComparator/NW_aligner.py:136\u001B[0m, in \u001B[0;36m<genexpr>\u001B[0;34m(.0)\u001B[0m\n\u001B[1;32m    134\u001B[0m appending_str \u001B[38;5;241m=\u001B[39m \u001B[38;5;124m\"\u001B[39m\u001B[38;5;124m\"\u001B[39m\n\u001B[1;32m    135\u001B[0m \u001B[38;5;66;03m# to denote no penalty for certain regions\u001B[39;00m\n\u001B[0;32m--> 136\u001B[0m \u001B[38;5;28;01mif\u001B[39;00m \u001B[38;5;28many\u001B[39m(substring \u001B[38;5;129;01min\u001B[39;00m \u001B[43msegment\u001B[49m\u001B[38;5;241;43m.\u001B[39;49m\u001B[43msegment_type\u001B[49m \u001B[38;5;28;01mfor\u001B[39;00m substring \u001B[38;5;129;01min\u001B[39;00m forbidden_comparison_region_types):\n\u001B[1;32m    137\u001B[0m     appending_str \u001B[38;5;241m+\u001B[39m\u001B[38;5;241m=\u001B[39m \u001B[38;5;124m\"\u001B[39m\u001B[38;5;124mx\u001B[39m\u001B[38;5;124m\"\u001B[39m\n\u001B[1;32m    138\u001B[0m \u001B[38;5;66;03m# get segment index\u001B[39;00m\n",
      "\u001B[0;31mAttributeError\u001B[0m: 'str' object has no attribute 'segment_type'"
     ]
    }
   ],
   "source": [
    "for file in os.listdir('cluster_files/'):\n",
    "\tprint(file.split('.')[0])\n",
    "\tindex_to_segment, karsim_path_list, omkar_path_list = read_cluster_file('cluster_files/' + file)\n",
    "\thungarian_algorithm_for_cluster(karsim_path_list, omkar_path_list, index_to_segment, verbose=True)"
   ],
   "metadata": {
    "collapsed": false,
    "pycharm": {
     "name": "#%%\n"
    }
   }
  },
  {
   "cell_type": "code",
   "execution_count": null,
   "outputs": [],
   "source": [],
   "metadata": {
    "collapsed": false,
    "pycharm": {
     "name": "#%%\n"
    }
   }
  }
 ],
 "metadata": {
  "kernelspec": {
   "display_name": "Python 3",
   "language": "python",
   "name": "python3"
  },
  "language_info": {
   "codemirror_mode": {
    "name": "ipython",
    "version": 2
   },
   "file_extension": ".py",
   "mimetype": "text/x-python",
   "name": "python",
   "nbconvert_exporter": "python",
   "pygments_lexer": "ipython2",
   "version": "2.7.6"
  }
 },
 "nbformat": 4,
 "nbformat_minor": 0
}