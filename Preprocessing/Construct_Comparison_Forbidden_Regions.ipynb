{
 "cells": [
  {
   "cell_type": "code",
   "execution_count": 1,
   "metadata": {
    "collapsed": true
   },
   "outputs": [],
   "source": [
    "from Structures import Segment, Arm, Path\n",
    "from forbidden_region_processing import *"
   ]
  },
  {
   "cell_type": "code",
   "execution_count": 2,
   "outputs": [],
   "source": [
    "all_forbidden_arm = read_forbidden_regions('../Metadata/merged_forbidden_regions_unique.bed')\n",
    "acrocentric_forbidden_arm = read_forbidden_regions('../Metadata/acrocentric_regions.bed')\n",
    "\n",
    "all_forbidden_path = Path(all_forbidden_arm, 'all_forbidden', 'all_forbidden')\n",
    "acrocentric_forbidden_path = Path(acrocentric_forbidden_arm, 'acrocentric_forbidden', 'acrocentric_forbidden')"
   ],
   "metadata": {
    "collapsed": false
   }
  },
  {
   "cell_type": "code",
   "execution_count": 3,
   "outputs": [],
   "source": [
    "new_all_forbidden_segments = []\n",
    "for segment_itr in all_forbidden_path.linear_path.segments:\n",
    "\tif segment_itr.segment_type not in ['superdup', 'hardmask']:\n",
    "\t\tnew_all_forbidden_segments.append(segment_itr)\n",
    "all_forbidden_path = Path(Arm(new_all_forbidden_segments, 'forbidden_regions'), 'all_forbidden', 'all_forbidden')"
   ],
   "metadata": {
    "collapsed": false
   }
  },
  {
   "cell_type": "code",
   "execution_count": 4,
   "outputs": [
    {
     "name": "stdout",
     "output_type": "stream",
     "text": [
      "(Chr13, 0, 15999999, acrocentric)\n",
      "(Chr13, 16000000, 18051249, acrocentric)\n",
      "(Chr14, 0, 15999999, acrocentric)\n",
      "(Chr14, 16000000, 18173524, acrocentric)\n",
      "(Chr15, 0, 16999999, acrocentric)\n",
      "(Chr15, 17000000, 19725255, acrocentric)\n",
      "(Chr21, 0, 5009999, acrocentric)\n",
      "(Chr21, 5010000, 10864559, acrocentric)\n",
      "(Chr21, 10864560, 12915809, acrocentric)\n",
      "(Chr22, 0, 10509999, acrocentric)\n",
      "(Chr22, 10510000, 12954787, acrocentric)\n",
      "(Chr22, 12954788, 15054319, acrocentric)\n"
     ]
    }
   ],
   "source": [
    "all_forbidden_path.generate_mutual_breakpoints(acrocentric_forbidden_path, mutual=True)\n",
    "for segment_itr in acrocentric_forbidden_path.linear_path.segments:\n",
    "\tprint(segment_itr)"
   ],
   "metadata": {
    "collapsed": false
   }
  },
  {
   "cell_type": "code",
   "execution_count": 5,
   "outputs": [],
   "source": [
    "new_segments = []"
   ],
   "metadata": {
    "collapsed": false
   }
  },
  {
   "cell_type": "code",
   "execution_count": 6,
   "outputs": [],
   "source": [
    "for segment_itr in new_all_forbidden_segments:\n",
    "\tif segment_itr in acrocentric_forbidden_path.linear_path:\n",
    "\t\tsegment_itr.segment_type = 'acrocentric-' + segment_itr.segment_type\n",
    "\tnew_segments.append(segment_itr)"
   ],
   "metadata": {
    "collapsed": false
   }
  },
  {
   "cell_type": "code",
   "execution_count": 7,
   "outputs": [
    {
     "name": "stdout",
     "output_type": "stream",
     "text": [
      "(Chr13, 0, 15999999, acrocentric)\n",
      "(Chr13, 16000000, 18051249, acrocentric)\n",
      "(Chr14, 0, 15999999, acrocentric)\n",
      "(Chr14, 16000000, 18173524, acrocentric)\n",
      "(Chr15, 0, 16999999, acrocentric)\n",
      "(Chr15, 17000000, 19725255, acrocentric)\n",
      "(Chr21, 0, 5009999, acrocentric)\n",
      "(Chr21, 5010000, 10864559, acrocentric)\n",
      "(Chr21, 10864560, 12915809, acrocentric)\n",
      "(Chr22, 0, 10509999, acrocentric)\n",
      "(Chr22, 10510000, 12954787, acrocentric)\n",
      "(Chr22, 12954788, 15054319, acrocentric)\n"
     ]
    }
   ],
   "source": [
    "for segment_itr in acrocentric_forbidden_path.linear_path.segments:\n",
    "\tprint(segment_itr)\n",
    "\tif segment_itr not in all_forbidden_path.linear_path:\n",
    "\t\tnew_segments.append(segment_itr)"
   ],
   "metadata": {
    "collapsed": false
   }
  },
  {
   "cell_type": "code",
   "execution_count": 8,
   "outputs": [],
   "source": [
    "new_segments.sort()"
   ],
   "metadata": {
    "collapsed": false
   }
  },
  {
   "cell_type": "code",
   "execution_count": 9,
   "outputs": [
    {
     "name": "stdout",
     "output_type": "stream",
     "text": [
      "(Chr1, 0, 9999, telomere1)\n",
      "(Chr1, 122026459, 125184588, centromere)\n",
      "(Chr1, 248946422, 248956421, telomere2)\n",
      "(Chr2, 0, 9999, telomere1)\n",
      "(Chr2, 92188145, 94090558, centromere)\n",
      "(Chr2, 242183529, 242193528, telomere2)\n",
      "(Chr3, 0, 9999, telomere1)\n",
      "(Chr3, 90772458, 93655575, centromere)\n",
      "(Chr3, 198235559, 198295558, telomere2)\n",
      "(Chr4, 0, 9999, telomere1)\n",
      "(Chr4, 49708100, 51743952, centromere)\n",
      "(Chr4, 190204555, 190214554, telomere2)\n",
      "(Chr5, 0, 9999, telomere1)\n",
      "(Chr5, 46485900, 50059808, centromere)\n",
      "(Chr5, 181478259, 181538258, telomere2)\n",
      "(Chr6, 0, 59999, telomere1)\n",
      "(Chr6, 58553888, 59829935, centromere)\n",
      "(Chr6, 170745979, 170805978, telomere2)\n",
      "(Chr7, 0, 9999, telomere1)\n",
      "(Chr7, 58169653, 60828235, centromere)\n",
      "(Chr7, 159335973, 159345972, telomere2)\n",
      "(Chr8, 0, 59999, telomere1)\n",
      "(Chr8, 44033744, 45877266, centromere)\n",
      "(Chr8, 145078636, 145138635, telomere2)\n",
      "(Chr9, 0, 9999, telomere1)\n",
      "(Chr9, 43236167, 45518559, centromere)\n",
      "(Chr9, 138334717, 138394716, telomere2)\n",
      "(Chr10, 0, 9999, telomere1)\n",
      "(Chr10, 39686682, 41593522, centromere)\n",
      "(Chr10, 133787422, 133797421, telomere2)\n",
      "(Chr11, 0, 59999, telomere1)\n",
      "(Chr11, 51078348, 54425075, centromere)\n",
      "(Chr11, 135076622, 135086621, telomere2)\n",
      "(Chr12, 0, 9999, telomere1)\n",
      "(Chr12, 34769407, 37185253, centromere)\n",
      "(Chr12, 133265309, 133275308, telomere2)\n",
      "(Chr13, 0, 15999999, acrocentric-telomere1)\n",
      "(Chr13, 16000000, 18051249, acrocentric-centromere)\n",
      "(Chr13, 114354328, 114364327, telomere2)\n",
      "(Chr14, 0, 15999999, acrocentric-telomere1)\n",
      "(Chr14, 16000000, 18173524, acrocentric-centromere)\n",
      "(Chr14, 106883718, 107043717, telomere2)\n",
      "(Chr15, 0, 16999999, acrocentric-telomere1)\n",
      "(Chr15, 17000000, 19725255, acrocentric-centromere)\n",
      "(Chr15, 101981189, 101991188, telomere2)\n",
      "(Chr16, 0, 9999, telomere1)\n",
      "(Chr16, 36311158, 38280683, centromere)\n",
      "(Chr16, 90228345, 90338344, telomere2)\n",
      "(Chr17, 0, 59999, telomere1)\n",
      "(Chr17, 22813679, 26885981, centromere)\n",
      "(Chr17, 83247441, 83257440, telomere2)\n",
      "(Chr18, 0, 9999, telomere1)\n",
      "(Chr18, 15460899, 20861207, centromere)\n",
      "(Chr18, 80263285, 80373284, telomere2)\n",
      "(Chr19, 0, 59999, telomere1)\n",
      "(Chr19, 24498980, 27190875, centromere)\n",
      "(Chr19, 58607616, 58617615, telomere2)\n",
      "(Chr20, 0, 59999, telomere1)\n",
      "(Chr20, 26436232, 30038349, centromere)\n",
      "(Chr20, 64334167, 64444166, telomere2)\n",
      "(Chr21, 0, 5009999, acrocentric-telomere1)\n",
      "(Chr21, 5010000, 10864559, acrocentric)\n",
      "(Chr21, 10864560, 12915809, acrocentric-centromere)\n",
      "(Chr21, 46699983, 46709982, telomere2)\n",
      "(Chr22, 0, 10509999, acrocentric-telomere1)\n",
      "(Chr22, 10510000, 12954787, acrocentric)\n",
      "(Chr22, 12954788, 15054319, acrocentric-centromere)\n",
      "(Chr22, 50808468, 50818467, telomere2)\n",
      "(ChrX, 0, 9999, telomere1)\n",
      "(ChrX, 58605579, 62412543, centromere)\n",
      "(ChrX, 156030895, 156040894, telomere2)\n",
      "(ChrY, 0, 9999, telomere1)\n",
      "(ChrY, 10316944, 10544040, centromere)\n",
      "(ChrY, 57217415, 57227414, telomere2)\n"
     ]
    }
   ],
   "source": [
    "for segment_itr in new_segments:\n",
    "\tprint(segment_itr)"
   ],
   "metadata": {
    "collapsed": false
   }
  },
  {
   "cell_type": "code",
   "execution_count": 10,
   "outputs": [],
   "source": [
    "output_forbidden_regions_from_arm(Arm(new_segments, 'forbidden_regions'), '../Metadata/acrocentric_telo_cen.bed')"
   ],
   "metadata": {
    "collapsed": false
   }
  },
  {
   "cell_type": "code",
   "execution_count": 11,
   "outputs": [],
   "source": [
    "with open('x.txt', 'w') as fp_write:\n",
    "\tfp_write.write('test')"
   ],
   "metadata": {
    "collapsed": false
   }
  },
  {
   "cell_type": "code",
   "execution_count": null,
   "outputs": [],
   "source": [],
   "metadata": {
    "collapsed": false
   }
  }
 ],
 "metadata": {
  "kernelspec": {
   "display_name": "Python 3",
   "language": "python",
   "name": "python3"
  },
  "language_info": {
   "codemirror_mode": {
    "name": "ipython",
    "version": 2
   },
   "file_extension": ".py",
   "mimetype": "text/x-python",
   "name": "python",
   "nbconvert_exporter": "python",
   "pygments_lexer": "ipython2",
   "version": "2.7.6"
  }
 },
 "nbformat": 4,
 "nbformat_minor": 0
}
