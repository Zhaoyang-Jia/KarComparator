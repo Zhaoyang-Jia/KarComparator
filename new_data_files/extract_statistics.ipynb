{
 "cells": [
  {
   "cell_type": "code",
   "execution_count": 11,
   "metadata": {
    "collapsed": true
   },
   "outputs": [],
   "source": [
    "import re\n",
    "import os\n",
    "import pandas as pd"
   ]
  },
  {
   "cell_type": "code",
   "execution_count": null,
   "outputs": [],
   "source": [
    "files = []\n",
    "\n",
    "for file in os.listdir('cluster_files/'):\n",
    "\tfiles.append(file)\n",
    "\n",
    "files.sort()"
   ],
   "metadata": {
    "collapsed": false
   }
  },
  {
   "cell_type": "code",
   "execution_count": 30,
   "outputs": [],
   "source": [
    "data = []\n",
    "\n",
    "for file in files:\n",
    "\tnew_data = {}\n",
    "\twith open('cluster_files/' + file) as fp_read:\n",
    "\t\tline1 = fp_read.readline()\n",
    "\t\tmatches = re.findall(r'<(.*?)>', line1)\n",
    "\t\torigins = eval(matches[1])\n",
    "\t\tnew_data = {'file_name': file,\n",
    "\t\t\t\t\t\t'cluster': matches[0],\n",
    "\t\t\t\t\t\t'origin_chr': origins,\n",
    "\t\t\t\t\t\t'n_origins': len(origins),\n",
    "\t\t\t\t\t'n_karsim': int(matches[2]),\n",
    "\t\t\t\t\t'n_omkar': int(matches[3])}\n",
    "\talignment_file = file.split('.')[0] + '.alignment.txt'\n",
    "\twith open('alignment_files/' + alignment_file) as fp_read:\n",
    "\t\tline1 = fp_read.readline()\n",
    "\t\tline1 = line1.replace('\\n', '').split(': ')[1]\n",
    "\t\tnew_data['total_cost'] = int(line1)\n",
    "\t\talignment_costs = []\n",
    "\t\tfor line in fp_read:\n",
    "\t\t\tif line.startswith('alignment'):\n",
    "\t\t\t\tline = line.replace('\\n', '').split('cost: ')[1]\n",
    "\t\t\t\talignment_costs.append(int(line))\n",
    "\t\tnew_data['costs'] = alignment_costs\n",
    "\tdata.append(new_data)"
   ],
   "metadata": {
    "collapsed": false
   }
  },
  {
   "cell_type": "code",
   "execution_count": 31,
   "outputs": [],
   "source": [
    "df = pd.DataFrame(data)"
   ],
   "metadata": {
    "collapsed": false
   }
  },
  {
   "cell_type": "code",
   "execution_count": 32,
   "outputs": [
    {
     "data": {
      "text/plain": "                                             file_name cluster  \\\n283      23X_Xp11_22_Microduplication_r2cluster_12.txt      12   \n63   23X_1q21_recurrent_microduplication_r2cluster_...       8   \n334   23Y_1q21_recurrent_microdeletion_r2cluster_4.txt       4   \n556                23Y_Potocki_Shaffer_r2cluster_4.txt       4   \n470                    23Y_Cri_du_Chat_r2cluster_6.txt       6   \n..                                                 ...     ...   \n204                   23X_Cri_du_Chat_r2cluster_15.txt      15   \n205                   23X_Cri_du_Chat_r2cluster_16.txt      16   \n206                   23X_Cri_du_Chat_r2cluster_17.txt      17   \n207                   23X_Cri_du_Chat_r2cluster_18.txt      18   \n304  23Y_12q14_recurrent_microdeletion_r2cluster_14...      14   \n\n                          origin_chr  n_origins  total_cost  \\\n283  [Chr1, Chr3, Chr4, Chr9, Chr17]          5   759362242   \n63         [Chr1, Chr2, Chr7, Chr13]          4   523942369   \n334         [Chr1, Chr3, Chr8, Chr9]          4  1461148021   \n556               [Chr5, Chr7, Chr8]          3   266111571   \n470               [Chr6, Chr8, Chr9]          3    19125166   \n..                               ...        ...         ...   \n204                          [Chr17]          1        2096   \n205                          [Chr18]          1      110227   \n206                          [Chr19]          1        3800   \n207                          [Chr20]          1         896   \n304                          [Chr17]          1        2096   \n\n                                                 costs  \n283  [76784038, 223558724, 14345, 140467547, 231727...  \n63   [149159022, 16052, 725417, 149753204, 2802073,...  \n334  [721987151, 43740, 2615992, 265434970, 2403772...  \n556  [123345863, 23119, 9735163, 9875441, 5383, 123...  \n470      [17993, 6081, 9527327, 9499155, 42600, 32010]  \n..                                                 ...  \n204                                       [1048, 1048]  \n205                                     [59325, 50902]  \n206                                       [1900, 1900]  \n207                                         [448, 448]  \n304                                       [1048, 1048]  \n\n[608 rows x 6 columns]",
      "text/html": "<div>\n<style scoped>\n    .dataframe tbody tr th:only-of-type {\n        vertical-align: middle;\n    }\n\n    .dataframe tbody tr th {\n        vertical-align: top;\n    }\n\n    .dataframe thead th {\n        text-align: right;\n    }\n</style>\n<table border=\"1\" class=\"dataframe\">\n  <thead>\n    <tr style=\"text-align: right;\">\n      <th></th>\n      <th>file_name</th>\n      <th>cluster</th>\n      <th>origin_chr</th>\n      <th>n_origins</th>\n      <th>total_cost</th>\n      <th>costs</th>\n    </tr>\n  </thead>\n  <tbody>\n    <tr>\n      <th>283</th>\n      <td>23X_Xp11_22_Microduplication_r2cluster_12.txt</td>\n      <td>12</td>\n      <td>[Chr1, Chr3, Chr4, Chr9, Chr17]</td>\n      <td>5</td>\n      <td>759362242</td>\n      <td>[76784038, 223558724, 14345, 140467547, 231727...</td>\n    </tr>\n    <tr>\n      <th>63</th>\n      <td>23X_1q21_recurrent_microduplication_r2cluster_...</td>\n      <td>8</td>\n      <td>[Chr1, Chr2, Chr7, Chr13]</td>\n      <td>4</td>\n      <td>523942369</td>\n      <td>[149159022, 16052, 725417, 149753204, 2802073,...</td>\n    </tr>\n    <tr>\n      <th>334</th>\n      <td>23Y_1q21_recurrent_microdeletion_r2cluster_4.txt</td>\n      <td>4</td>\n      <td>[Chr1, Chr3, Chr8, Chr9]</td>\n      <td>4</td>\n      <td>1461148021</td>\n      <td>[721987151, 43740, 2615992, 265434970, 2403772...</td>\n    </tr>\n    <tr>\n      <th>556</th>\n      <td>23Y_Potocki_Shaffer_r2cluster_4.txt</td>\n      <td>4</td>\n      <td>[Chr5, Chr7, Chr8]</td>\n      <td>3</td>\n      <td>266111571</td>\n      <td>[123345863, 23119, 9735163, 9875441, 5383, 123...</td>\n    </tr>\n    <tr>\n      <th>470</th>\n      <td>23Y_Cri_du_Chat_r2cluster_6.txt</td>\n      <td>6</td>\n      <td>[Chr6, Chr8, Chr9]</td>\n      <td>3</td>\n      <td>19125166</td>\n      <td>[17993, 6081, 9527327, 9499155, 42600, 32010]</td>\n    </tr>\n    <tr>\n      <th>...</th>\n      <td>...</td>\n      <td>...</td>\n      <td>...</td>\n      <td>...</td>\n      <td>...</td>\n      <td>...</td>\n    </tr>\n    <tr>\n      <th>204</th>\n      <td>23X_Cri_du_Chat_r2cluster_15.txt</td>\n      <td>15</td>\n      <td>[Chr17]</td>\n      <td>1</td>\n      <td>2096</td>\n      <td>[1048, 1048]</td>\n    </tr>\n    <tr>\n      <th>205</th>\n      <td>23X_Cri_du_Chat_r2cluster_16.txt</td>\n      <td>16</td>\n      <td>[Chr18]</td>\n      <td>1</td>\n      <td>110227</td>\n      <td>[59325, 50902]</td>\n    </tr>\n    <tr>\n      <th>206</th>\n      <td>23X_Cri_du_Chat_r2cluster_17.txt</td>\n      <td>17</td>\n      <td>[Chr19]</td>\n      <td>1</td>\n      <td>3800</td>\n      <td>[1900, 1900]</td>\n    </tr>\n    <tr>\n      <th>207</th>\n      <td>23X_Cri_du_Chat_r2cluster_18.txt</td>\n      <td>18</td>\n      <td>[Chr20]</td>\n      <td>1</td>\n      <td>896</td>\n      <td>[448, 448]</td>\n    </tr>\n    <tr>\n      <th>304</th>\n      <td>23Y_12q14_recurrent_microdeletion_r2cluster_14...</td>\n      <td>14</td>\n      <td>[Chr17]</td>\n      <td>1</td>\n      <td>2096</td>\n      <td>[1048, 1048]</td>\n    </tr>\n  </tbody>\n</table>\n<p>608 rows × 6 columns</p>\n</div>"
     },
     "execution_count": 32,
     "metadata": {},
     "output_type": "execute_result"
    }
   ],
   "source": [
    "df.sort_values('n_origins', ascending=False)"
   ],
   "metadata": {
    "collapsed": false
   }
  },
  {
   "cell_type": "code",
   "execution_count": 23,
   "outputs": [
    {
     "data": {
      "text/plain": "39"
     },
     "execution_count": 23,
     "metadata": {},
     "output_type": "execute_result"
    }
   ],
   "source": [
    "(df['n_origins'] >= 2).sum()"
   ],
   "metadata": {
    "collapsed": false
   }
  },
  {
   "cell_type": "code",
   "execution_count": null,
   "outputs": [],
   "source": [],
   "metadata": {
    "collapsed": false
   }
  }
 ],
 "metadata": {
  "kernelspec": {
   "display_name": "Python 3",
   "language": "python",
   "name": "python3"
  },
  "language_info": {
   "codemirror_mode": {
    "name": "ipython",
    "version": 2
   },
   "file_extension": ".py",
   "mimetype": "text/x-python",
   "name": "python",
   "nbconvert_exporter": "python",
   "pygments_lexer": "ipython2",
   "version": "2.7.6"
  }
 },
 "nbformat": 4,
 "nbformat_minor": 0
}
