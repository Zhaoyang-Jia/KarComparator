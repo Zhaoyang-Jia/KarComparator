{
 "cells": [
  {
   "cell_type": "code",
   "execution_count": 13,
   "metadata": {
    "collapsed": true,
    "pycharm": {
     "name": "#%%\n"
    }
   },
   "outputs": [],
   "source": [
    "import re\n",
    "import os\n",
    "import pandas as pd"
   ]
  },
  {
   "cell_type": "code",
   "execution_count": 14,
   "outputs": [],
   "source": [
    "from Karsimulator_Start_Genome import get_event_chr"
   ],
   "metadata": {
    "collapsed": false,
    "pycharm": {
     "name": "#%%\n"
    }
   }
  },
  {
   "cell_type": "code",
   "execution_count": 15,
   "outputs": [],
   "source": [
    "files = []\n",
    "\n",
    "for file in os.listdir('cluster_files/'):\n",
    "\tfiles.append(file)\n",
    "\n",
    "files.sort()"
   ],
   "metadata": {
    "collapsed": false,
    "pycharm": {
     "name": "#%%\n"
    }
   }
  },
  {
   "cell_type": "code",
   "execution_count": 16,
   "outputs": [],
   "source": [
    "data = []\n",
    "\n",
    "for file in files:\n",
    "\tnew_data = {}\n",
    "\tfile_name = file.split('cluster')[0]\n",
    "\tcluster_number = file.split('cluster_')[1].replace('.txt', '')\n",
    "\twith open('cluster_files/' + file) as fp_read:\n",
    "\t\tline1 = fp_read.readline()\n",
    "\t\tmatches = re.findall(r'<(.*?)>', line1)\n",
    "\t\torigins = eval(matches[1])\n",
    "\t\tnew_data = {'file_name': file_name,\n",
    "\t\t\t\t\t'cluster': matches[0],\n",
    "\t\t\t\t\t'n_origin_chr': len(origins),\n",
    "\t\t\t\t\t'origin_chr': origins,\n",
    "\t\t\t\t\t'n_path_karsim': int(matches[2]),\n",
    "\t\t\t\t\t'n_path_omkar': int(matches[3])}\n",
    "\talignment_file = file.split('.')[0] + '.alignment.txt'\n",
    "\twith open('alignment_files/' + alignment_file) as fp_read:\n",
    "\t\tline1 = fp_read.readline()\n",
    "\t\tline1 = line1.replace('\\n', '').split(': ')[1]\n",
    "\t\tnew_data['total_alignment_cost'] = int(line1)\n",
    "\t\talignment_costs = []\n",
    "\t\tfor line in fp_read:\n",
    "\t\t\tif line.startswith('alignment'):\n",
    "\t\t\t\tline = line.replace('\\n', '').split('cost: ')[1]\n",
    "\t\t\t\talignment_costs.append(int(line))\n",
    "\t\tnew_data['alignment_costs'] = alignment_costs\n",
    "\tdata.append(new_data)"
   ],
   "metadata": {
    "collapsed": false,
    "pycharm": {
     "name": "#%%\n"
    }
   }
  },
  {
   "cell_type": "code",
   "execution_count": 17,
   "outputs": [],
   "source": [
    "df = pd.DataFrame(data)"
   ],
   "metadata": {
    "collapsed": false,
    "pycharm": {
     "name": "#%%\n"
    }
   }
  },
  {
   "cell_type": "code",
   "execution_count": 22,
   "outputs": [
    {
     "data": {
      "text/plain": "39"
     },
     "execution_count": 22,
     "metadata": {},
     "output_type": "execute_result"
    }
   ],
   "source": [
    "(df['n_origin_chr'] >= 2).sum()"
   ],
   "metadata": {
    "collapsed": false,
    "pycharm": {
     "name": "#%%\n"
    }
   }
  },
  {
   "cell_type": "code",
   "execution_count": 23,
   "outputs": [],
   "source": [
    "# get event_chr\n",
    "karsim_file_prefix = '/media/zhaoyang-new/workspace/KarSim/KarComparator/new_data_files/KarSimulator/'\n",
    "df['event_chr'] = df['file_name'].apply(lambda x: list(get_event_chr(karsim_file_prefix + x + '.kt.txt')))"
   ],
   "metadata": {
    "collapsed": false,
    "pycharm": {
     "name": "#%%\n"
    }
   }
  },
  {
   "cell_type": "code",
   "execution_count": 24,
   "outputs": [],
   "source": [
    "df['event_chr'] = df['event_chr'].apply(lambda x: [entry[:-1] for entry in x])"
   ],
   "metadata": {
    "collapsed": false,
    "pycharm": {
     "name": "#%%\n"
    }
   }
  },
  {
   "cell_type": "code",
   "execution_count": 25,
   "outputs": [
    {
     "data": {
      "text/plain": "                      file_name cluster  n_origin_chr     origin_chr  \\\n0       23X_15q26_overgrowth_r1       0             1         [Chr1]   \n1       23X_15q26_overgrowth_r1       1             1         [Chr2]   \n2       23X_15q26_overgrowth_r1      10             1        [Chr11]   \n3       23X_15q26_overgrowth_r1      11             1        [Chr12]   \n4       23X_15q26_overgrowth_r1      12             1        [Chr13]   \n..                          ...     ...           ...            ...   \n603  23Y_WAGR_11p13_deletion_r2       5             1         [Chr7]   \n604  23Y_WAGR_11p13_deletion_r2       6             1         [Chr8]   \n605  23Y_WAGR_11p13_deletion_r2       7             1         [Chr9]   \n606  23Y_WAGR_11p13_deletion_r2       8             1        [Chr10]   \n607  23Y_WAGR_11p13_deletion_r2       9             2  [Chr4, Chr11]   \n\n     n_path_karsim  n_path_omkar  total_alignment_cost  \\\n0                2             2                 64203   \n1                2             2             188445274   \n2                2             2                 22574   \n3                2             2                  2696   \n4                2             1             183591686   \n..             ...           ...                   ...   \n603              2             2                  1976   \n604              2             2                  5020   \n605              2             2                   504   \n606              2             2                104410   \n607              4             4                174998   \n\n                  alignment_costs  \\\n0                  [41160, 23043]   \n1             [188232388, 212886]   \n2                   [15518, 7056]   \n3                    [1348, 1348]   \n4            [96303080, 87288606]   \n..                            ...   \n603                    [988, 988]   \n604                  [2510, 2510]   \n605                    [252, 252]   \n606                [102255, 2155]   \n607  [18689, 1990, 137902, 16417]   \n\n                                             event_chr  \n0    [Chr1, Chr2, Chr3, Chr5, Chr6, Chr8, Chr11, Ch...  \n1    [Chr1, Chr2, Chr3, Chr5, Chr6, Chr8, Chr11, Ch...  \n2    [Chr1, Chr2, Chr3, Chr5, Chr6, Chr8, Chr11, Ch...  \n3    [Chr1, Chr2, Chr3, Chr5, Chr6, Chr8, Chr11, Ch...  \n4    [Chr1, Chr2, Chr3, Chr5, Chr6, Chr8, Chr11, Ch...  \n..                                                 ...  \n603  [Chr2, Chr3, Chr4, Chr10, Chr11, Chr15, Chr18,...  \n604  [Chr2, Chr3, Chr4, Chr10, Chr11, Chr15, Chr18,...  \n605  [Chr2, Chr3, Chr4, Chr10, Chr11, Chr15, Chr18,...  \n606  [Chr2, Chr3, Chr4, Chr10, Chr11, Chr15, Chr18,...  \n607  [Chr2, Chr3, Chr4, Chr10, Chr11, Chr15, Chr18,...  \n\n[608 rows x 9 columns]",
      "text/html": "<div>\n<style scoped>\n    .dataframe tbody tr th:only-of-type {\n        vertical-align: middle;\n    }\n\n    .dataframe tbody tr th {\n        vertical-align: top;\n    }\n\n    .dataframe thead th {\n        text-align: right;\n    }\n</style>\n<table border=\"1\" class=\"dataframe\">\n  <thead>\n    <tr style=\"text-align: right;\">\n      <th></th>\n      <th>file_name</th>\n      <th>cluster</th>\n      <th>n_origin_chr</th>\n      <th>origin_chr</th>\n      <th>n_path_karsim</th>\n      <th>n_path_omkar</th>\n      <th>total_alignment_cost</th>\n      <th>alignment_costs</th>\n      <th>event_chr</th>\n    </tr>\n  </thead>\n  <tbody>\n    <tr>\n      <th>0</th>\n      <td>23X_15q26_overgrowth_r1</td>\n      <td>0</td>\n      <td>1</td>\n      <td>[Chr1]</td>\n      <td>2</td>\n      <td>2</td>\n      <td>64203</td>\n      <td>[41160, 23043]</td>\n      <td>[Chr1, Chr2, Chr3, Chr5, Chr6, Chr8, Chr11, Ch...</td>\n    </tr>\n    <tr>\n      <th>1</th>\n      <td>23X_15q26_overgrowth_r1</td>\n      <td>1</td>\n      <td>1</td>\n      <td>[Chr2]</td>\n      <td>2</td>\n      <td>2</td>\n      <td>188445274</td>\n      <td>[188232388, 212886]</td>\n      <td>[Chr1, Chr2, Chr3, Chr5, Chr6, Chr8, Chr11, Ch...</td>\n    </tr>\n    <tr>\n      <th>2</th>\n      <td>23X_15q26_overgrowth_r1</td>\n      <td>10</td>\n      <td>1</td>\n      <td>[Chr11]</td>\n      <td>2</td>\n      <td>2</td>\n      <td>22574</td>\n      <td>[15518, 7056]</td>\n      <td>[Chr1, Chr2, Chr3, Chr5, Chr6, Chr8, Chr11, Ch...</td>\n    </tr>\n    <tr>\n      <th>3</th>\n      <td>23X_15q26_overgrowth_r1</td>\n      <td>11</td>\n      <td>1</td>\n      <td>[Chr12]</td>\n      <td>2</td>\n      <td>2</td>\n      <td>2696</td>\n      <td>[1348, 1348]</td>\n      <td>[Chr1, Chr2, Chr3, Chr5, Chr6, Chr8, Chr11, Ch...</td>\n    </tr>\n    <tr>\n      <th>4</th>\n      <td>23X_15q26_overgrowth_r1</td>\n      <td>12</td>\n      <td>1</td>\n      <td>[Chr13]</td>\n      <td>2</td>\n      <td>1</td>\n      <td>183591686</td>\n      <td>[96303080, 87288606]</td>\n      <td>[Chr1, Chr2, Chr3, Chr5, Chr6, Chr8, Chr11, Ch...</td>\n    </tr>\n    <tr>\n      <th>...</th>\n      <td>...</td>\n      <td>...</td>\n      <td>...</td>\n      <td>...</td>\n      <td>...</td>\n      <td>...</td>\n      <td>...</td>\n      <td>...</td>\n      <td>...</td>\n    </tr>\n    <tr>\n      <th>603</th>\n      <td>23Y_WAGR_11p13_deletion_r2</td>\n      <td>5</td>\n      <td>1</td>\n      <td>[Chr7]</td>\n      <td>2</td>\n      <td>2</td>\n      <td>1976</td>\n      <td>[988, 988]</td>\n      <td>[Chr2, Chr3, Chr4, Chr10, Chr11, Chr15, Chr18,...</td>\n    </tr>\n    <tr>\n      <th>604</th>\n      <td>23Y_WAGR_11p13_deletion_r2</td>\n      <td>6</td>\n      <td>1</td>\n      <td>[Chr8]</td>\n      <td>2</td>\n      <td>2</td>\n      <td>5020</td>\n      <td>[2510, 2510]</td>\n      <td>[Chr2, Chr3, Chr4, Chr10, Chr11, Chr15, Chr18,...</td>\n    </tr>\n    <tr>\n      <th>605</th>\n      <td>23Y_WAGR_11p13_deletion_r2</td>\n      <td>7</td>\n      <td>1</td>\n      <td>[Chr9]</td>\n      <td>2</td>\n      <td>2</td>\n      <td>504</td>\n      <td>[252, 252]</td>\n      <td>[Chr2, Chr3, Chr4, Chr10, Chr11, Chr15, Chr18,...</td>\n    </tr>\n    <tr>\n      <th>606</th>\n      <td>23Y_WAGR_11p13_deletion_r2</td>\n      <td>8</td>\n      <td>1</td>\n      <td>[Chr10]</td>\n      <td>2</td>\n      <td>2</td>\n      <td>104410</td>\n      <td>[102255, 2155]</td>\n      <td>[Chr2, Chr3, Chr4, Chr10, Chr11, Chr15, Chr18,...</td>\n    </tr>\n    <tr>\n      <th>607</th>\n      <td>23Y_WAGR_11p13_deletion_r2</td>\n      <td>9</td>\n      <td>2</td>\n      <td>[Chr4, Chr11]</td>\n      <td>4</td>\n      <td>4</td>\n      <td>174998</td>\n      <td>[18689, 1990, 137902, 16417]</td>\n      <td>[Chr2, Chr3, Chr4, Chr10, Chr11, Chr15, Chr18,...</td>\n    </tr>\n  </tbody>\n</table>\n<p>608 rows × 9 columns</p>\n</div>"
     },
     "execution_count": 25,
     "metadata": {},
     "output_type": "execute_result"
    }
   ],
   "source": [
    "df"
   ],
   "metadata": {
    "collapsed": false,
    "pycharm": {
     "name": "#%%\n"
    }
   }
  },
  {
   "cell_type": "code",
   "execution_count": 26,
   "outputs": [],
   "source": [
    "df['is_event_cluster'] = df.apply(lambda row: any(origin_chr in row['event_chr'] for origin_chr in row['origin_chr']), axis=1)"
   ],
   "metadata": {
    "collapsed": false,
    "pycharm": {
     "name": "#%%\n"
    }
   }
  },
  {
   "cell_type": "code",
   "execution_count": 30,
   "outputs": [],
   "source": [
    "def count_overlaps(origin_chr, event_chr):\n",
    "\tcount = 0\n",
    "\tfor origin in origin_chr:\n",
    "\t\tif origin in event_chr:\n",
    "\t\t\tcount += 1\n",
    "\treturn count\n",
    "\n",
    "# Apply the custom function to each row and create a new column\n",
    "df['n_event_chr'] = df.apply(lambda row: count_overlaps(row['origin_chr'], row['event_chr']), axis=1)"
   ],
   "metadata": {
    "collapsed": false,
    "pycharm": {
     "name": "#%%\n"
    }
   }
  },
  {
   "cell_type": "code",
   "execution_count": 31,
   "outputs": [
    {
     "data": {
      "text/plain": "                      file_name cluster  n_origin_chr     origin_chr  \\\n0       23X_15q26_overgrowth_r1       0             1         [Chr1]   \n1       23X_15q26_overgrowth_r1       1             1         [Chr2]   \n2       23X_15q26_overgrowth_r1      10             1        [Chr11]   \n3       23X_15q26_overgrowth_r1      11             1        [Chr12]   \n4       23X_15q26_overgrowth_r1      12             1        [Chr13]   \n..                          ...     ...           ...            ...   \n603  23Y_WAGR_11p13_deletion_r2       5             1         [Chr7]   \n604  23Y_WAGR_11p13_deletion_r2       6             1         [Chr8]   \n605  23Y_WAGR_11p13_deletion_r2       7             1         [Chr9]   \n606  23Y_WAGR_11p13_deletion_r2       8             1        [Chr10]   \n607  23Y_WAGR_11p13_deletion_r2       9             2  [Chr4, Chr11]   \n\n     n_path_karsim  n_path_omkar  total_alignment_cost  \\\n0                2             2                 64203   \n1                2             2             188445274   \n2                2             2                 22574   \n3                2             2                  2696   \n4                2             1             183591686   \n..             ...           ...                   ...   \n603              2             2                  1976   \n604              2             2                  5020   \n605              2             2                   504   \n606              2             2                104410   \n607              4             4                174998   \n\n                  alignment_costs  \\\n0                  [41160, 23043]   \n1             [188232388, 212886]   \n2                   [15518, 7056]   \n3                    [1348, 1348]   \n4            [96303080, 87288606]   \n..                            ...   \n603                    [988, 988]   \n604                  [2510, 2510]   \n605                    [252, 252]   \n606                [102255, 2155]   \n607  [18689, 1990, 137902, 16417]   \n\n                                             event_chr  is_event_cluster  \\\n0    [Chr1, Chr2, Chr3, Chr5, Chr6, Chr8, Chr11, Ch...              True   \n1    [Chr1, Chr2, Chr3, Chr5, Chr6, Chr8, Chr11, Ch...              True   \n2    [Chr1, Chr2, Chr3, Chr5, Chr6, Chr8, Chr11, Ch...              True   \n3    [Chr1, Chr2, Chr3, Chr5, Chr6, Chr8, Chr11, Ch...             False   \n4    [Chr1, Chr2, Chr3, Chr5, Chr6, Chr8, Chr11, Ch...              True   \n..                                                 ...               ...   \n603  [Chr2, Chr3, Chr4, Chr10, Chr11, Chr15, Chr18,...             False   \n604  [Chr2, Chr3, Chr4, Chr10, Chr11, Chr15, Chr18,...             False   \n605  [Chr2, Chr3, Chr4, Chr10, Chr11, Chr15, Chr18,...             False   \n606  [Chr2, Chr3, Chr4, Chr10, Chr11, Chr15, Chr18,...              True   \n607  [Chr2, Chr3, Chr4, Chr10, Chr11, Chr15, Chr18,...              True   \n\n     n_event_chr  \n0              1  \n1              1  \n2              1  \n3              0  \n4              1  \n..           ...  \n603            0  \n604            0  \n605            0  \n606            1  \n607            2  \n\n[608 rows x 11 columns]",
      "text/html": "<div>\n<style scoped>\n    .dataframe tbody tr th:only-of-type {\n        vertical-align: middle;\n    }\n\n    .dataframe tbody tr th {\n        vertical-align: top;\n    }\n\n    .dataframe thead th {\n        text-align: right;\n    }\n</style>\n<table border=\"1\" class=\"dataframe\">\n  <thead>\n    <tr style=\"text-align: right;\">\n      <th></th>\n      <th>file_name</th>\n      <th>cluster</th>\n      <th>n_origin_chr</th>\n      <th>origin_chr</th>\n      <th>n_path_karsim</th>\n      <th>n_path_omkar</th>\n      <th>total_alignment_cost</th>\n      <th>alignment_costs</th>\n      <th>event_chr</th>\n      <th>is_event_cluster</th>\n      <th>n_event_chr</th>\n    </tr>\n  </thead>\n  <tbody>\n    <tr>\n      <th>0</th>\n      <td>23X_15q26_overgrowth_r1</td>\n      <td>0</td>\n      <td>1</td>\n      <td>[Chr1]</td>\n      <td>2</td>\n      <td>2</td>\n      <td>64203</td>\n      <td>[41160, 23043]</td>\n      <td>[Chr1, Chr2, Chr3, Chr5, Chr6, Chr8, Chr11, Ch...</td>\n      <td>True</td>\n      <td>1</td>\n    </tr>\n    <tr>\n      <th>1</th>\n      <td>23X_15q26_overgrowth_r1</td>\n      <td>1</td>\n      <td>1</td>\n      <td>[Chr2]</td>\n      <td>2</td>\n      <td>2</td>\n      <td>188445274</td>\n      <td>[188232388, 212886]</td>\n      <td>[Chr1, Chr2, Chr3, Chr5, Chr6, Chr8, Chr11, Ch...</td>\n      <td>True</td>\n      <td>1</td>\n    </tr>\n    <tr>\n      <th>2</th>\n      <td>23X_15q26_overgrowth_r1</td>\n      <td>10</td>\n      <td>1</td>\n      <td>[Chr11]</td>\n      <td>2</td>\n      <td>2</td>\n      <td>22574</td>\n      <td>[15518, 7056]</td>\n      <td>[Chr1, Chr2, Chr3, Chr5, Chr6, Chr8, Chr11, Ch...</td>\n      <td>True</td>\n      <td>1</td>\n    </tr>\n    <tr>\n      <th>3</th>\n      <td>23X_15q26_overgrowth_r1</td>\n      <td>11</td>\n      <td>1</td>\n      <td>[Chr12]</td>\n      <td>2</td>\n      <td>2</td>\n      <td>2696</td>\n      <td>[1348, 1348]</td>\n      <td>[Chr1, Chr2, Chr3, Chr5, Chr6, Chr8, Chr11, Ch...</td>\n      <td>False</td>\n      <td>0</td>\n    </tr>\n    <tr>\n      <th>4</th>\n      <td>23X_15q26_overgrowth_r1</td>\n      <td>12</td>\n      <td>1</td>\n      <td>[Chr13]</td>\n      <td>2</td>\n      <td>1</td>\n      <td>183591686</td>\n      <td>[96303080, 87288606]</td>\n      <td>[Chr1, Chr2, Chr3, Chr5, Chr6, Chr8, Chr11, Ch...</td>\n      <td>True</td>\n      <td>1</td>\n    </tr>\n    <tr>\n      <th>...</th>\n      <td>...</td>\n      <td>...</td>\n      <td>...</td>\n      <td>...</td>\n      <td>...</td>\n      <td>...</td>\n      <td>...</td>\n      <td>...</td>\n      <td>...</td>\n      <td>...</td>\n      <td>...</td>\n    </tr>\n    <tr>\n      <th>603</th>\n      <td>23Y_WAGR_11p13_deletion_r2</td>\n      <td>5</td>\n      <td>1</td>\n      <td>[Chr7]</td>\n      <td>2</td>\n      <td>2</td>\n      <td>1976</td>\n      <td>[988, 988]</td>\n      <td>[Chr2, Chr3, Chr4, Chr10, Chr11, Chr15, Chr18,...</td>\n      <td>False</td>\n      <td>0</td>\n    </tr>\n    <tr>\n      <th>604</th>\n      <td>23Y_WAGR_11p13_deletion_r2</td>\n      <td>6</td>\n      <td>1</td>\n      <td>[Chr8]</td>\n      <td>2</td>\n      <td>2</td>\n      <td>5020</td>\n      <td>[2510, 2510]</td>\n      <td>[Chr2, Chr3, Chr4, Chr10, Chr11, Chr15, Chr18,...</td>\n      <td>False</td>\n      <td>0</td>\n    </tr>\n    <tr>\n      <th>605</th>\n      <td>23Y_WAGR_11p13_deletion_r2</td>\n      <td>7</td>\n      <td>1</td>\n      <td>[Chr9]</td>\n      <td>2</td>\n      <td>2</td>\n      <td>504</td>\n      <td>[252, 252]</td>\n      <td>[Chr2, Chr3, Chr4, Chr10, Chr11, Chr15, Chr18,...</td>\n      <td>False</td>\n      <td>0</td>\n    </tr>\n    <tr>\n      <th>606</th>\n      <td>23Y_WAGR_11p13_deletion_r2</td>\n      <td>8</td>\n      <td>1</td>\n      <td>[Chr10]</td>\n      <td>2</td>\n      <td>2</td>\n      <td>104410</td>\n      <td>[102255, 2155]</td>\n      <td>[Chr2, Chr3, Chr4, Chr10, Chr11, Chr15, Chr18,...</td>\n      <td>True</td>\n      <td>1</td>\n    </tr>\n    <tr>\n      <th>607</th>\n      <td>23Y_WAGR_11p13_deletion_r2</td>\n      <td>9</td>\n      <td>2</td>\n      <td>[Chr4, Chr11]</td>\n      <td>4</td>\n      <td>4</td>\n      <td>174998</td>\n      <td>[18689, 1990, 137902, 16417]</td>\n      <td>[Chr2, Chr3, Chr4, Chr10, Chr11, Chr15, Chr18,...</td>\n      <td>True</td>\n      <td>2</td>\n    </tr>\n  </tbody>\n</table>\n<p>608 rows × 11 columns</p>\n</div>"
     },
     "execution_count": 31,
     "metadata": {},
     "output_type": "execute_result"
    }
   ],
   "source": [
    "df"
   ],
   "metadata": {
    "collapsed": false,
    "pycharm": {
     "name": "#%%\n"
    }
   }
  },
  {
   "cell_type": "code",
   "execution_count": 35,
   "outputs": [
    {
     "name": "stdout",
     "output_type": "stream",
     "text": [
      "0\n"
     ]
    }
   ],
   "source": [
    "# see if the following statement is true: a cluster is only an event cluster IFF it only contains event_chr\n",
    "event_cluster_with_non_event_chr = df['is_event_cluster'] & (df['n_origin_chr'] - df['n_event_chr'] > 0)\n",
    "print(sum(event_cluster_with_non_event_chr))"
   ],
   "metadata": {
    "collapsed": false,
    "pycharm": {
     "name": "#%%\n"
    }
   }
  },
  {
   "cell_type": "code",
   "execution_count": null,
   "outputs": [],
   "source": [],
   "metadata": {
    "collapsed": false,
    "pycharm": {
     "name": "#%%\n"
    }
   }
  }
 ],
 "metadata": {
  "kernelspec": {
   "display_name": "Python 3",
   "language": "python",
   "name": "python3"
  },
  "language_info": {
   "codemirror_mode": {
    "name": "ipython",
    "version": 2
   },
   "file_extension": ".py",
   "mimetype": "text/x-python",
   "name": "python",
   "nbconvert_exporter": "python",
   "pygments_lexer": "ipython2",
   "version": "2.7.6"
  }
 },
 "nbformat": 4,
 "nbformat_minor": 0
}