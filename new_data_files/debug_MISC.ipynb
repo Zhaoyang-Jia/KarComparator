{
 "cells": [
  {
   "cell_type": "code",
   "execution_count": 22,
   "outputs": [],
   "source": [
    "import re\n",
    "import os\n",
    "import numpy as np\n",
    "import pandas as pd\n",
    "import matplotlib.pyplot as plt\n",
    "\n",
    "from Karsimulator_Start_Genome import get_event_chr\n",
    "from COMPARISON_with_graphs import *"
   ],
   "metadata": {
    "collapsed": false,
    "pycharm": {
     "name": "#%%\n"
    }
   }
  },
  {
   "cell_type": "markdown",
   "source": [
    "## Check if dependent cluster segregation is correct"
   ],
   "metadata": {
    "collapsed": false,
    "pycharm": {
     "name": "#%% md\n"
    }
   }
  },
  {
   "cell_type": "markdown",
   "source": [
    "Result: Passed"
   ],
   "metadata": {
    "collapsed": false,
    "pycharm": {
     "name": "#%% md\n"
    }
   }
  },
  {
   "cell_type": "code",
   "execution_count": 33,
   "outputs": [],
   "source": [
    "data_folder = 'cluster_files_testbuild/'"
   ],
   "metadata": {
    "collapsed": false,
    "pycharm": {
     "name": "#%%\n"
    }
   }
  },
  {
   "cell_type": "code",
   "execution_count": 34,
   "outputs": [],
   "source": [
    "files = []\n",
    "\n",
    "for file in os.listdir(data_folder):\n",
    "\tfiles.append(file)\n",
    "\n",
    "files.sort()"
   ],
   "metadata": {
    "collapsed": false,
    "pycharm": {
     "name": "#%%\n"
    }
   }
  },
  {
   "cell_type": "code",
   "execution_count": 35,
   "outputs": [],
   "source": [
    "data = []\n",
    "\n",
    "for file in files:\n",
    "\tnew_data = {}\n",
    "\tfile_name = file.split('cluster')[0]\n",
    "\tcluster_number = file.split('cluster_')[1].replace('.txt', '')\n",
    "\twith open(data_folder + file) as fp_read:\n",
    "\t\tline1 = fp_read.readline()\n",
    "\t\tmatches = re.findall(r'<(.*?)>', line1)\n",
    "\t\torigins = eval(matches[1])\n",
    "\t\tnew_data = {'file_name': file_name,\n",
    "\t\t\t\t\t'cluster': matches[0],\n",
    "\t\t\t\t\t'n_origin_chr': len(origins),\n",
    "\t\t\t\t\t'origin_chr': origins,\n",
    "\t\t\t\t\t'n_path_karsim': int(matches[2]),\n",
    "\t\t\t\t\t'n_path_omkar': int(matches[3])}\n",
    "\talignment_file = file.split('.')[0] + '.alignment.txt'\n",
    "\twith open('alignment_files/' + alignment_file) as fp_read:\n",
    "\t\tline1 = fp_read.readline()\n",
    "\t\tline1 = line1.replace('\\n', '').split(': ')[1]\n",
    "\t\tnew_data['total_alignment_cost'] = int(line1)\n",
    "\t\talignment_costs = []\n",
    "\t\tfor line in fp_read:\n",
    "\t\t\tif line.startswith('alignment'):\n",
    "\t\t\t\tline = line.replace('\\n', '').split('cost: ')[1]\n",
    "\t\t\t\talignment_costs.append(int(line))\n",
    "\t\tnew_data['alignment_costs'] = alignment_costs\n",
    "\tdata.append(new_data)"
   ],
   "metadata": {
    "collapsed": false,
    "pycharm": {
     "name": "#%%\n"
    }
   }
  },
  {
   "cell_type": "code",
   "execution_count": 36,
   "outputs": [],
   "source": [
    "df = pd.DataFrame(data)"
   ],
   "metadata": {
    "collapsed": false,
    "pycharm": {
     "name": "#%%\n"
    }
   }
  },
  {
   "cell_type": "code",
   "execution_count": 37,
   "outputs": [],
   "source": [
    "merged_by_filename_df = df.groupby('file_name')['origin_chr'].agg(lambda x: sum(x, []))\n",
    "merged_by_filename_df = merged_by_filename_df.reset_index()"
   ],
   "metadata": {
    "collapsed": false,
    "pycharm": {
     "name": "#%%\n"
    }
   }
  },
  {
   "cell_type": "code",
   "execution_count": 38,
   "outputs": [],
   "source": [
    "def custom_sort(chr_list):\n",
    "    order = {'Chr' + str(i): i for i in range(1, 23)}\n",
    "    order['ChrX'] = 23\n",
    "    order['ChrY'] = 24\n",
    "    return sorted(chr_list, key=lambda x: order.get(x, float('inf')))\n",
    "\n",
    "merged_by_filename_df['origin_chr_sorted'] = merged_by_filename_df['origin_chr'].apply(custom_sort)"
   ],
   "metadata": {
    "collapsed": false,
    "pycharm": {
     "name": "#%%\n"
    }
   }
  },
  {
   "cell_type": "code",
   "execution_count": 39,
   "outputs": [],
   "source": [
    "merged_by_filename_df['n_chr'] = merged_by_filename_df['origin_chr_sorted'].apply(len)"
   ],
   "metadata": {
    "collapsed": false,
    "pycharm": {
     "name": "#%%\n"
    }
   }
  },
  {
   "cell_type": "code",
   "execution_count": 40,
   "outputs": [],
   "source": [
    "def check_chr_coverage(row):\n",
    "\tfemale = [f'Chr{i}' for i in range(1, 23)] + ['ChrX']\n",
    "\tmale = [f'Chr{i}' for i in range(1, 23)] + ['ChrX', 'ChrY']\n",
    "\treturn row == female or row == male\n",
    "\n",
    "merged_by_filename_df['coverage'] = merged_by_filename_df['origin_chr_sorted'].apply(check_chr_coverage)"
   ],
   "metadata": {
    "collapsed": false,
    "pycharm": {
     "name": "#%%\n"
    }
   }
  },
  {
   "cell_type": "code",
   "execution_count": 41,
   "outputs": [
    {
     "data": {
      "text/plain": "                                 file_name  \\\n0                  23X_15q26_overgrowth_r1   \n1   23X_1q21_recurrent_microduplication_r1   \n2   23X_1q21_recurrent_microduplication_r2   \n3           23X_22q11-2_distal_deletion_r1   \n4           23X_22q11-2_distal_deletion_r2   \n5                 23X_22q11_duplication_r2   \n6                          23X_Angelman_r1   \n7                          23X_Angelman_r2   \n8                       23X_Cri_du_Chat_r1   \n9                       23X_Cri_du_Chat_r2   \n10            23X_Early_onset_Alzheimer_r1   \n11                              23X_STS_r1   \n12                              23X_STS_r2   \n13         23X_Xp11_22_Microduplication_r2   \n14    23Y_12q14_recurrent_microdeletion_r2   \n15     23Y_1q21_recurrent_microdeletion_r2   \n16          23Y_2p15-16-1_microdeletion_r2   \n17     23Y_8q21_recurrent_microdeletion_r2   \n18                            23Y_CMT1A_r1   \n19                            23Y_CMT1A_r2   \n20                      23Y_Cri_du_Chat_r1   \n21                      23Y_Cri_du_Chat_r2   \n22                23Y_NF1_microdeletion_r1   \n23                23Y_NF1_microdeletion_r2   \n24                  23Y_Potocki_Shaffer_r1   \n25                  23Y_Potocki_Shaffer_r2   \n26              23Y_WAGR_11p13_deletion_r1   \n27              23Y_WAGR_11p13_deletion_r2   \n\n                                           origin_chr  \\\n0   [Chr1, Chr2, Chr11, Chr12, Chr13, Chr14, Chr15...   \n1   [Chr1, Chr2, Chr12, Chr13, Chr14, Chr15, Chr16...   \n2   [Chr3, Chr4, Chr15, Chr5, Chr16, Chr17, Chr18,...   \n3   [Chr1, Chr2, Chr11, Chr12, Chr13, Chr14, Chr15...   \n4   [Chr2, Chr3, Chr13, Chr14, Chr15, Chr16, Chr17...   \n5   [Chr1, Chr2, Chr12, Chr13, Chr6, Chr15, Chr16,...   \n6   [Chr2, Chr3, Chr12, Chr13, Chr14, Chr15, Chr16...   \n7   [Chr2, Chr3, Chr13, Chr14, Chr15, Chr16, Chr17...   \n8   [Chr1, Chr2, Chr13, Chr14, Chr15, Chr16, Chr17...   \n9   [Chr1, Chr2, Chr12, Chr13, Chr14, Chr15, Chr16...   \n10  [Chr1, Chr3, Chr15, Chr16, Chr17, Chr8, Chr14,...   \n11  [Chr4, Chr5, Chr14, Chr15, Chr16, Chr17, Chr3,...   \n12  [Chr1, Chr3, Chr14, Chr15, Chr16, Chr17, Chr18...   \n13  [Chr2, Chr5, Chr16, Chr1, Chr3, Chr4, Chr9, Ch...   \n14  [Chr4, Chr6, Chr15, Chr16, Chr17, Chr18, Chr19...   \n15  [Chr4, Chr5, Chr15, Chr16, Chr17, Chr18, Chr19...   \n16  [Chr1, Chr3, Chr2, Chr14, Chr15, Chr16, Chr17,...   \n17  [Chr1, Chr2, Chr12, Chr13, Chr6, Chr14, Chr15,...   \n18  [Chr1, Chr2, Chr12, Chr14, Chr15, Chr13, Chr16...   \n19  [Chr2, Chr4, Chr14, Chr15, Chr16, Chr3, Chr17,...   \n20  [Chr1, Chr2, Chr3, Chr13, Chr14, Chr15, Chr16,...   \n21  [Chr1, Chr2, Chr13, Chr14, Chr15, Chr16, Chr17...   \n22  [Chr1, Chr3, Chr2, Chr4, Chr5, Chr14, Chr15, C...   \n23  [Chr2, Chr3, Chr13, Chr9, Chr14, Chr15, Chr16,...   \n24  [Chr1, Chr2, Chr13, Chr14, Chr11, Chr15, Chr16...   \n25  [Chr1, Chr2, Chr14, Chr6, Chr15, Chr16, Chr17,...   \n26  [Chr1, Chr2, Chr12, Chr13, Chr14, Chr15, Chr16...   \n27  [Chr1, Chr2, Chr12, Chr13, Chr14, Chr15, Chr16...   \n\n                                    origin_chr_sorted  n_chr  coverage  \n0   [Chr1, Chr2, Chr3, Chr4, Chr5, Chr6, Chr7, Chr...     23      True  \n1   [Chr1, Chr2, Chr3, Chr4, Chr5, Chr6, Chr7, Chr...     23      True  \n2   [Chr1, Chr2, Chr3, Chr4, Chr5, Chr6, Chr7, Chr...     23      True  \n3   [Chr1, Chr2, Chr3, Chr4, Chr5, Chr6, Chr7, Chr...     23      True  \n4   [Chr1, Chr2, Chr3, Chr4, Chr5, Chr6, Chr7, Chr...     23      True  \n5   [Chr1, Chr2, Chr3, Chr4, Chr5, Chr6, Chr7, Chr...     23      True  \n6   [Chr1, Chr2, Chr3, Chr4, Chr5, Chr6, Chr7, Chr...     23      True  \n7   [Chr1, Chr2, Chr3, Chr4, Chr5, Chr6, Chr7, Chr...     23      True  \n8   [Chr1, Chr2, Chr3, Chr4, Chr5, Chr6, Chr7, Chr...     23      True  \n9   [Chr1, Chr2, Chr3, Chr4, Chr5, Chr6, Chr7, Chr...     23      True  \n10  [Chr1, Chr2, Chr3, Chr4, Chr5, Chr6, Chr7, Chr...     23      True  \n11  [Chr1, Chr2, Chr3, Chr4, Chr5, Chr6, Chr7, Chr...     23      True  \n12  [Chr1, Chr2, Chr3, Chr4, Chr5, Chr6, Chr7, Chr...     23      True  \n13  [Chr1, Chr2, Chr3, Chr4, Chr5, Chr6, Chr7, Chr...     23      True  \n14  [Chr1, Chr2, Chr3, Chr4, Chr5, Chr6, Chr7, Chr...     24      True  \n15  [Chr1, Chr2, Chr3, Chr4, Chr5, Chr6, Chr7, Chr...     24      True  \n16  [Chr1, Chr2, Chr3, Chr4, Chr5, Chr6, Chr7, Chr...     24      True  \n17  [Chr1, Chr2, Chr3, Chr4, Chr5, Chr6, Chr7, Chr...     24      True  \n18  [Chr1, Chr2, Chr3, Chr4, Chr5, Chr6, Chr7, Chr...     24      True  \n19  [Chr1, Chr2, Chr3, Chr4, Chr5, Chr6, Chr7, Chr...     24      True  \n20  [Chr1, Chr2, Chr3, Chr4, Chr5, Chr6, Chr7, Chr...     24      True  \n21  [Chr1, Chr2, Chr3, Chr4, Chr5, Chr6, Chr7, Chr...     24      True  \n22  [Chr1, Chr2, Chr3, Chr4, Chr5, Chr6, Chr7, Chr...     24      True  \n23  [Chr1, Chr2, Chr3, Chr4, Chr5, Chr6, Chr7, Chr...     24      True  \n24  [Chr1, Chr2, Chr3, Chr4, Chr5, Chr6, Chr7, Chr...     24      True  \n25  [Chr1, Chr2, Chr3, Chr4, Chr5, Chr6, Chr7, Chr...     24      True  \n26  [Chr1, Chr2, Chr3, Chr4, Chr5, Chr6, Chr7, Chr...     24      True  \n27  [Chr1, Chr2, Chr3, Chr4, Chr5, Chr6, Chr7, Chr...     24      True  ",
      "text/html": "<div>\n<style scoped>\n    .dataframe tbody tr th:only-of-type {\n        vertical-align: middle;\n    }\n\n    .dataframe tbody tr th {\n        vertical-align: top;\n    }\n\n    .dataframe thead th {\n        text-align: right;\n    }\n</style>\n<table border=\"1\" class=\"dataframe\">\n  <thead>\n    <tr style=\"text-align: right;\">\n      <th></th>\n      <th>file_name</th>\n      <th>origin_chr</th>\n      <th>origin_chr_sorted</th>\n      <th>n_chr</th>\n      <th>coverage</th>\n    </tr>\n  </thead>\n  <tbody>\n    <tr>\n      <th>0</th>\n      <td>23X_15q26_overgrowth_r1</td>\n      <td>[Chr1, Chr2, Chr11, Chr12, Chr13, Chr14, Chr15...</td>\n      <td>[Chr1, Chr2, Chr3, Chr4, Chr5, Chr6, Chr7, Chr...</td>\n      <td>23</td>\n      <td>True</td>\n    </tr>\n    <tr>\n      <th>1</th>\n      <td>23X_1q21_recurrent_microduplication_r1</td>\n      <td>[Chr1, Chr2, Chr12, Chr13, Chr14, Chr15, Chr16...</td>\n      <td>[Chr1, Chr2, Chr3, Chr4, Chr5, Chr6, Chr7, Chr...</td>\n      <td>23</td>\n      <td>True</td>\n    </tr>\n    <tr>\n      <th>2</th>\n      <td>23X_1q21_recurrent_microduplication_r2</td>\n      <td>[Chr3, Chr4, Chr15, Chr5, Chr16, Chr17, Chr18,...</td>\n      <td>[Chr1, Chr2, Chr3, Chr4, Chr5, Chr6, Chr7, Chr...</td>\n      <td>23</td>\n      <td>True</td>\n    </tr>\n    <tr>\n      <th>3</th>\n      <td>23X_22q11-2_distal_deletion_r1</td>\n      <td>[Chr1, Chr2, Chr11, Chr12, Chr13, Chr14, Chr15...</td>\n      <td>[Chr1, Chr2, Chr3, Chr4, Chr5, Chr6, Chr7, Chr...</td>\n      <td>23</td>\n      <td>True</td>\n    </tr>\n    <tr>\n      <th>4</th>\n      <td>23X_22q11-2_distal_deletion_r2</td>\n      <td>[Chr2, Chr3, Chr13, Chr14, Chr15, Chr16, Chr17...</td>\n      <td>[Chr1, Chr2, Chr3, Chr4, Chr5, Chr6, Chr7, Chr...</td>\n      <td>23</td>\n      <td>True</td>\n    </tr>\n    <tr>\n      <th>5</th>\n      <td>23X_22q11_duplication_r2</td>\n      <td>[Chr1, Chr2, Chr12, Chr13, Chr6, Chr15, Chr16,...</td>\n      <td>[Chr1, Chr2, Chr3, Chr4, Chr5, Chr6, Chr7, Chr...</td>\n      <td>23</td>\n      <td>True</td>\n    </tr>\n    <tr>\n      <th>6</th>\n      <td>23X_Angelman_r1</td>\n      <td>[Chr2, Chr3, Chr12, Chr13, Chr14, Chr15, Chr16...</td>\n      <td>[Chr1, Chr2, Chr3, Chr4, Chr5, Chr6, Chr7, Chr...</td>\n      <td>23</td>\n      <td>True</td>\n    </tr>\n    <tr>\n      <th>7</th>\n      <td>23X_Angelman_r2</td>\n      <td>[Chr2, Chr3, Chr13, Chr14, Chr15, Chr16, Chr17...</td>\n      <td>[Chr1, Chr2, Chr3, Chr4, Chr5, Chr6, Chr7, Chr...</td>\n      <td>23</td>\n      <td>True</td>\n    </tr>\n    <tr>\n      <th>8</th>\n      <td>23X_Cri_du_Chat_r1</td>\n      <td>[Chr1, Chr2, Chr13, Chr14, Chr15, Chr16, Chr17...</td>\n      <td>[Chr1, Chr2, Chr3, Chr4, Chr5, Chr6, Chr7, Chr...</td>\n      <td>23</td>\n      <td>True</td>\n    </tr>\n    <tr>\n      <th>9</th>\n      <td>23X_Cri_du_Chat_r2</td>\n      <td>[Chr1, Chr2, Chr12, Chr13, Chr14, Chr15, Chr16...</td>\n      <td>[Chr1, Chr2, Chr3, Chr4, Chr5, Chr6, Chr7, Chr...</td>\n      <td>23</td>\n      <td>True</td>\n    </tr>\n    <tr>\n      <th>10</th>\n      <td>23X_Early_onset_Alzheimer_r1</td>\n      <td>[Chr1, Chr3, Chr15, Chr16, Chr17, Chr8, Chr14,...</td>\n      <td>[Chr1, Chr2, Chr3, Chr4, Chr5, Chr6, Chr7, Chr...</td>\n      <td>23</td>\n      <td>True</td>\n    </tr>\n    <tr>\n      <th>11</th>\n      <td>23X_STS_r1</td>\n      <td>[Chr4, Chr5, Chr14, Chr15, Chr16, Chr17, Chr3,...</td>\n      <td>[Chr1, Chr2, Chr3, Chr4, Chr5, Chr6, Chr7, Chr...</td>\n      <td>23</td>\n      <td>True</td>\n    </tr>\n    <tr>\n      <th>12</th>\n      <td>23X_STS_r2</td>\n      <td>[Chr1, Chr3, Chr14, Chr15, Chr16, Chr17, Chr18...</td>\n      <td>[Chr1, Chr2, Chr3, Chr4, Chr5, Chr6, Chr7, Chr...</td>\n      <td>23</td>\n      <td>True</td>\n    </tr>\n    <tr>\n      <th>13</th>\n      <td>23X_Xp11_22_Microduplication_r2</td>\n      <td>[Chr2, Chr5, Chr16, Chr1, Chr3, Chr4, Chr9, Ch...</td>\n      <td>[Chr1, Chr2, Chr3, Chr4, Chr5, Chr6, Chr7, Chr...</td>\n      <td>23</td>\n      <td>True</td>\n    </tr>\n    <tr>\n      <th>14</th>\n      <td>23Y_12q14_recurrent_microdeletion_r2</td>\n      <td>[Chr4, Chr6, Chr15, Chr16, Chr17, Chr18, Chr19...</td>\n      <td>[Chr1, Chr2, Chr3, Chr4, Chr5, Chr6, Chr7, Chr...</td>\n      <td>24</td>\n      <td>True</td>\n    </tr>\n    <tr>\n      <th>15</th>\n      <td>23Y_1q21_recurrent_microdeletion_r2</td>\n      <td>[Chr4, Chr5, Chr15, Chr16, Chr17, Chr18, Chr19...</td>\n      <td>[Chr1, Chr2, Chr3, Chr4, Chr5, Chr6, Chr7, Chr...</td>\n      <td>24</td>\n      <td>True</td>\n    </tr>\n    <tr>\n      <th>16</th>\n      <td>23Y_2p15-16-1_microdeletion_r2</td>\n      <td>[Chr1, Chr3, Chr2, Chr14, Chr15, Chr16, Chr17,...</td>\n      <td>[Chr1, Chr2, Chr3, Chr4, Chr5, Chr6, Chr7, Chr...</td>\n      <td>24</td>\n      <td>True</td>\n    </tr>\n    <tr>\n      <th>17</th>\n      <td>23Y_8q21_recurrent_microdeletion_r2</td>\n      <td>[Chr1, Chr2, Chr12, Chr13, Chr6, Chr14, Chr15,...</td>\n      <td>[Chr1, Chr2, Chr3, Chr4, Chr5, Chr6, Chr7, Chr...</td>\n      <td>24</td>\n      <td>True</td>\n    </tr>\n    <tr>\n      <th>18</th>\n      <td>23Y_CMT1A_r1</td>\n      <td>[Chr1, Chr2, Chr12, Chr14, Chr15, Chr13, Chr16...</td>\n      <td>[Chr1, Chr2, Chr3, Chr4, Chr5, Chr6, Chr7, Chr...</td>\n      <td>24</td>\n      <td>True</td>\n    </tr>\n    <tr>\n      <th>19</th>\n      <td>23Y_CMT1A_r2</td>\n      <td>[Chr2, Chr4, Chr14, Chr15, Chr16, Chr3, Chr17,...</td>\n      <td>[Chr1, Chr2, Chr3, Chr4, Chr5, Chr6, Chr7, Chr...</td>\n      <td>24</td>\n      <td>True</td>\n    </tr>\n    <tr>\n      <th>20</th>\n      <td>23Y_Cri_du_Chat_r1</td>\n      <td>[Chr1, Chr2, Chr3, Chr13, Chr14, Chr15, Chr16,...</td>\n      <td>[Chr1, Chr2, Chr3, Chr4, Chr5, Chr6, Chr7, Chr...</td>\n      <td>24</td>\n      <td>True</td>\n    </tr>\n    <tr>\n      <th>21</th>\n      <td>23Y_Cri_du_Chat_r2</td>\n      <td>[Chr1, Chr2, Chr13, Chr14, Chr15, Chr16, Chr17...</td>\n      <td>[Chr1, Chr2, Chr3, Chr4, Chr5, Chr6, Chr7, Chr...</td>\n      <td>24</td>\n      <td>True</td>\n    </tr>\n    <tr>\n      <th>22</th>\n      <td>23Y_NF1_microdeletion_r1</td>\n      <td>[Chr1, Chr3, Chr2, Chr4, Chr5, Chr14, Chr15, C...</td>\n      <td>[Chr1, Chr2, Chr3, Chr4, Chr5, Chr6, Chr7, Chr...</td>\n      <td>24</td>\n      <td>True</td>\n    </tr>\n    <tr>\n      <th>23</th>\n      <td>23Y_NF1_microdeletion_r2</td>\n      <td>[Chr2, Chr3, Chr13, Chr9, Chr14, Chr15, Chr16,...</td>\n      <td>[Chr1, Chr2, Chr3, Chr4, Chr5, Chr6, Chr7, Chr...</td>\n      <td>24</td>\n      <td>True</td>\n    </tr>\n    <tr>\n      <th>24</th>\n      <td>23Y_Potocki_Shaffer_r1</td>\n      <td>[Chr1, Chr2, Chr13, Chr14, Chr11, Chr15, Chr16...</td>\n      <td>[Chr1, Chr2, Chr3, Chr4, Chr5, Chr6, Chr7, Chr...</td>\n      <td>24</td>\n      <td>True</td>\n    </tr>\n    <tr>\n      <th>25</th>\n      <td>23Y_Potocki_Shaffer_r2</td>\n      <td>[Chr1, Chr2, Chr14, Chr6, Chr15, Chr16, Chr17,...</td>\n      <td>[Chr1, Chr2, Chr3, Chr4, Chr5, Chr6, Chr7, Chr...</td>\n      <td>24</td>\n      <td>True</td>\n    </tr>\n    <tr>\n      <th>26</th>\n      <td>23Y_WAGR_11p13_deletion_r1</td>\n      <td>[Chr1, Chr2, Chr12, Chr13, Chr14, Chr15, Chr16...</td>\n      <td>[Chr1, Chr2, Chr3, Chr4, Chr5, Chr6, Chr7, Chr...</td>\n      <td>24</td>\n      <td>True</td>\n    </tr>\n    <tr>\n      <th>27</th>\n      <td>23Y_WAGR_11p13_deletion_r2</td>\n      <td>[Chr1, Chr2, Chr12, Chr13, Chr14, Chr15, Chr16...</td>\n      <td>[Chr1, Chr2, Chr3, Chr4, Chr5, Chr6, Chr7, Chr...</td>\n      <td>24</td>\n      <td>True</td>\n    </tr>\n  </tbody>\n</table>\n</div>"
     },
     "execution_count": 41,
     "metadata": {},
     "output_type": "execute_result"
    }
   ],
   "source": [
    "merged_by_filename_df"
   ],
   "metadata": {
    "collapsed": false,
    "pycharm": {
     "name": "#%%\n"
    }
   }
  },
  {
   "cell_type": "code",
   "execution_count": 42,
   "outputs": [
    {
     "data": {
      "text/plain": "0"
     },
     "execution_count": 42,
     "metadata": {},
     "output_type": "execute_result"
    }
   ],
   "source": [
    "(merged_by_filename_df['coverage'] == False).sum()"
   ],
   "metadata": {
    "collapsed": false,
    "pycharm": {
     "name": "#%%\n"
    }
   }
  },
  {
   "cell_type": "markdown",
   "source": [
    "## Investigate how the new OMKar Build reduced the number of cluster that has multiple chrs"
   ],
   "metadata": {
    "collapsed": false,
    "pycharm": {
     "name": "#%% md\n"
    }
   }
  },
  {
   "cell_type": "markdown",
   "source": [
    "Result: No change"
   ],
   "metadata": {
    "collapsed": false,
    "pycharm": {
     "name": "#%% md\n"
    }
   }
  },
  {
   "cell_type": "code",
   "execution_count": 43,
   "outputs": [],
   "source": [
    "data_folder = 'cluster_files_testbuild2/'"
   ],
   "metadata": {
    "collapsed": false,
    "pycharm": {
     "name": "#%%\n"
    }
   }
  },
  {
   "cell_type": "code",
   "execution_count": 44,
   "outputs": [],
   "source": [
    "files = []\n",
    "\n",
    "for file in os.listdir(data_folder):\n",
    "\tfiles.append(file)\n",
    "\n",
    "files.sort()"
   ],
   "metadata": {
    "collapsed": false,
    "pycharm": {
     "name": "#%%\n"
    }
   }
  },
  {
   "cell_type": "code",
   "execution_count": 45,
   "outputs": [],
   "source": [
    "data = []\n",
    "\n",
    "for file in files:\n",
    "\tnew_data = {}\n",
    "\tfile_name = file.split('cluster')[0]\n",
    "\tcluster_number = file.split('cluster_')[1].replace('.txt', '')\n",
    "\twith open(data_folder + file) as fp_read:\n",
    "\t\tline1 = fp_read.readline()\n",
    "\t\tmatches = re.findall(r'<(.*?)>', line1)\n",
    "\t\torigins = eval(matches[1])\n",
    "\t\tnew_data = {'file_name': file_name,\n",
    "\t\t\t\t\t'cluster': matches[0],\n",
    "\t\t\t\t\t'n_origin_chr': len(origins),\n",
    "\t\t\t\t\t'origin_chr': origins,\n",
    "\t\t\t\t\t'n_path_karsim': int(matches[2]),\n",
    "\t\t\t\t\t'n_path_omkar': int(matches[3])}\n",
    "\talignment_file = file.split('.')[0] + '.alignment.txt'\n",
    "\twith open('alignment_files/' + alignment_file) as fp_read:\n",
    "\t\tline1 = fp_read.readline()\n",
    "\t\tline1 = line1.replace('\\n', '').split(': ')[1]\n",
    "\t\tnew_data['total_alignment_cost'] = int(line1)\n",
    "\t\talignment_costs = []\n",
    "\t\tfor line in fp_read:\n",
    "\t\t\tif line.startswith('alignment'):\n",
    "\t\t\t\tline = line.replace('\\n', '').split('cost: ')[1]\n",
    "\t\t\t\talignment_costs.append(int(line))\n",
    "\t\tnew_data['alignment_costs'] = alignment_costs\n",
    "\tdata.append(new_data)"
   ],
   "metadata": {
    "collapsed": false,
    "pycharm": {
     "name": "#%%\n"
    }
   }
  },
  {
   "cell_type": "code",
   "execution_count": 46,
   "outputs": [],
   "source": [
    "df = pd.DataFrame(data)"
   ],
   "metadata": {
    "collapsed": false,
    "pycharm": {
     "name": "#%%\n"
    }
   }
  },
  {
   "cell_type": "code",
   "execution_count": 47,
   "outputs": [
    {
     "data": {
      "text/plain": "50"
     },
     "execution_count": 47,
     "metadata": {},
     "output_type": "execute_result"
    }
   ],
   "source": [
    "(df['n_origin_chr'] >= 2).sum()"
   ],
   "metadata": {
    "collapsed": false,
    "pycharm": {
     "name": "#%%\n"
    }
   }
  },
  {
   "cell_type": "code",
   "execution_count": 48,
   "outputs": [
    {
     "data": {
      "text/plain": "19"
     },
     "execution_count": 48,
     "metadata": {},
     "output_type": "execute_result"
    }
   ],
   "source": [
    "df['n_path_diff'] = df['n_path_omkar'] - df['n_path_karsim']\n",
    "(df['n_path_diff'] != 0).sum()"
   ],
   "metadata": {
    "collapsed": false,
    "pycharm": {
     "name": "#%%\n"
    }
   }
  },
  {
   "cell_type": "code",
   "execution_count": 49,
   "outputs": [
    {
     "data": {
      "text/plain": "                          file_name cluster  n_origin_chr      origin_chr  \\\n173              23X_Cri_du_Chat_r1       1             1          [Chr2]   \n184              23X_Cri_du_Chat_r1       2             1          [Chr5]   \n214              23X_Cri_du_Chat_r2       9             2  [Chr10, Chr11]   \n267                      23X_STS_r2       3             2    [Chr2, Chr5]   \n269                      23X_STS_r2       5             1          [Chr8]   \n332  23Y_2p15-16-1_microdeletion_r2       0             1          [Chr1]   \n344  23Y_2p15-16-1_microdeletion_r2       2             1          [Chr4]   \n346  23Y_2p15-16-1_microdeletion_r2       3             1          [Chr6]   \n391                    23Y_CMT1A_r1       3             1          [Chr5]   \n393                    23Y_CMT1A_r1       5             2    [Chr3, Chr7]   \n413                    23Y_CMT1A_r2       4             2    [Chr5, Chr8]   \n415                    23Y_CMT1A_r2       6             1         [Chr10]   \n416                    23Y_CMT1A_r2       7             2   [Chr1, Chr11]   \n457              23Y_Cri_du_Chat_r2       4             1          [Chr5]   \n482        23Y_NF1_microdeletion_r1       8             1         [Chr12]   \n487        23Y_NF1_microdeletion_r2      11             2   [Chr9, Chr14]   \n501        23Y_NF1_microdeletion_r2       5             2    [Chr1, Chr7]   \n518          23Y_Potocki_Shaffer_r1       2             1          [Chr3]   \n569      23Y_WAGR_11p13_deletion_r1       8             1          [Chr9]   \n\n     n_path_karsim  n_path_omkar  total_alignment_cost  \\\n173              2             3              18881946   \n184              1             2                482396   \n214              5             4             561934814   \n267              4             5              10337022   \n269              2             3              16057728   \n332              2             3              10930353   \n344              2             3              15177308   \n346              2             3              89981517   \n391              1             2                482396   \n393              5             4             232634535   \n413              5             4             801598990   \n415              2             3               8837629   \n416              4             5             238473811   \n457              4             7             642800391   \n482              2             3                 14112   \n487              5             4             438190996   \n501              3             4              18563491   \n518              1             2             395665859   \n569              3             2             164779193   \n\n                                       alignment_costs  n_path_diff  \n173                          [9500886, 19160, 9361900]            1  \n184                                    [89984, 392412]            1  \n214   [126999146, 300870288, 1214889, 132843435, 7056]           -1  \n267            [5185137, 15432, 95405, 45277, 4995771]            1  \n269                          [9122593, 25359, 6909776]            1  \n332                          [5458997, 18587, 5452769]            1  \n344                           [7671227, 8500, 7497581]            1  \n346                                  [89915181, 66336]            1  \n391                                    [89984, 392412]            1  \n393     [345896, 41577, 113872151, 110766683, 7608228]           -1  \n413   [8062258, 183579005, 529197391, 62583, 80697753]           -1  \n415                                   [8807740, 29889]            1  \n416       [121607484, 13995, 111763076, 7056, 5082200]            1  \n457          [334495169, 134992358, 173169336, 143528]            3  \n482                                       [7056, 7056]            1  \n487  [128564, 231091236, 108694359, 9566642, 88710195]           -1  \n501                      [18282281, 8828, 988, 271394]            1  \n518                             [197990545, 197675314]            1  \n569                        [97931, 95098549, 69582713]           -1  ",
      "text/html": "<div>\n<style scoped>\n    .dataframe tbody tr th:only-of-type {\n        vertical-align: middle;\n    }\n\n    .dataframe tbody tr th {\n        vertical-align: top;\n    }\n\n    .dataframe thead th {\n        text-align: right;\n    }\n</style>\n<table border=\"1\" class=\"dataframe\">\n  <thead>\n    <tr style=\"text-align: right;\">\n      <th></th>\n      <th>file_name</th>\n      <th>cluster</th>\n      <th>n_origin_chr</th>\n      <th>origin_chr</th>\n      <th>n_path_karsim</th>\n      <th>n_path_omkar</th>\n      <th>total_alignment_cost</th>\n      <th>alignment_costs</th>\n      <th>n_path_diff</th>\n    </tr>\n  </thead>\n  <tbody>\n    <tr>\n      <th>173</th>\n      <td>23X_Cri_du_Chat_r1</td>\n      <td>1</td>\n      <td>1</td>\n      <td>[Chr2]</td>\n      <td>2</td>\n      <td>3</td>\n      <td>18881946</td>\n      <td>[9500886, 19160, 9361900]</td>\n      <td>1</td>\n    </tr>\n    <tr>\n      <th>184</th>\n      <td>23X_Cri_du_Chat_r1</td>\n      <td>2</td>\n      <td>1</td>\n      <td>[Chr5]</td>\n      <td>1</td>\n      <td>2</td>\n      <td>482396</td>\n      <td>[89984, 392412]</td>\n      <td>1</td>\n    </tr>\n    <tr>\n      <th>214</th>\n      <td>23X_Cri_du_Chat_r2</td>\n      <td>9</td>\n      <td>2</td>\n      <td>[Chr10, Chr11]</td>\n      <td>5</td>\n      <td>4</td>\n      <td>561934814</td>\n      <td>[126999146, 300870288, 1214889, 132843435, 7056]</td>\n      <td>-1</td>\n    </tr>\n    <tr>\n      <th>267</th>\n      <td>23X_STS_r2</td>\n      <td>3</td>\n      <td>2</td>\n      <td>[Chr2, Chr5]</td>\n      <td>4</td>\n      <td>5</td>\n      <td>10337022</td>\n      <td>[5185137, 15432, 95405, 45277, 4995771]</td>\n      <td>1</td>\n    </tr>\n    <tr>\n      <th>269</th>\n      <td>23X_STS_r2</td>\n      <td>5</td>\n      <td>1</td>\n      <td>[Chr8]</td>\n      <td>2</td>\n      <td>3</td>\n      <td>16057728</td>\n      <td>[9122593, 25359, 6909776]</td>\n      <td>1</td>\n    </tr>\n    <tr>\n      <th>332</th>\n      <td>23Y_2p15-16-1_microdeletion_r2</td>\n      <td>0</td>\n      <td>1</td>\n      <td>[Chr1]</td>\n      <td>2</td>\n      <td>3</td>\n      <td>10930353</td>\n      <td>[5458997, 18587, 5452769]</td>\n      <td>1</td>\n    </tr>\n    <tr>\n      <th>344</th>\n      <td>23Y_2p15-16-1_microdeletion_r2</td>\n      <td>2</td>\n      <td>1</td>\n      <td>[Chr4]</td>\n      <td>2</td>\n      <td>3</td>\n      <td>15177308</td>\n      <td>[7671227, 8500, 7497581]</td>\n      <td>1</td>\n    </tr>\n    <tr>\n      <th>346</th>\n      <td>23Y_2p15-16-1_microdeletion_r2</td>\n      <td>3</td>\n      <td>1</td>\n      <td>[Chr6]</td>\n      <td>2</td>\n      <td>3</td>\n      <td>89981517</td>\n      <td>[89915181, 66336]</td>\n      <td>1</td>\n    </tr>\n    <tr>\n      <th>391</th>\n      <td>23Y_CMT1A_r1</td>\n      <td>3</td>\n      <td>1</td>\n      <td>[Chr5]</td>\n      <td>1</td>\n      <td>2</td>\n      <td>482396</td>\n      <td>[89984, 392412]</td>\n      <td>1</td>\n    </tr>\n    <tr>\n      <th>393</th>\n      <td>23Y_CMT1A_r1</td>\n      <td>5</td>\n      <td>2</td>\n      <td>[Chr3, Chr7]</td>\n      <td>5</td>\n      <td>4</td>\n      <td>232634535</td>\n      <td>[345896, 41577, 113872151, 110766683, 7608228]</td>\n      <td>-1</td>\n    </tr>\n    <tr>\n      <th>413</th>\n      <td>23Y_CMT1A_r2</td>\n      <td>4</td>\n      <td>2</td>\n      <td>[Chr5, Chr8]</td>\n      <td>5</td>\n      <td>4</td>\n      <td>801598990</td>\n      <td>[8062258, 183579005, 529197391, 62583, 80697753]</td>\n      <td>-1</td>\n    </tr>\n    <tr>\n      <th>415</th>\n      <td>23Y_CMT1A_r2</td>\n      <td>6</td>\n      <td>1</td>\n      <td>[Chr10]</td>\n      <td>2</td>\n      <td>3</td>\n      <td>8837629</td>\n      <td>[8807740, 29889]</td>\n      <td>1</td>\n    </tr>\n    <tr>\n      <th>416</th>\n      <td>23Y_CMT1A_r2</td>\n      <td>7</td>\n      <td>2</td>\n      <td>[Chr1, Chr11]</td>\n      <td>4</td>\n      <td>5</td>\n      <td>238473811</td>\n      <td>[121607484, 13995, 111763076, 7056, 5082200]</td>\n      <td>1</td>\n    </tr>\n    <tr>\n      <th>457</th>\n      <td>23Y_Cri_du_Chat_r2</td>\n      <td>4</td>\n      <td>1</td>\n      <td>[Chr5]</td>\n      <td>4</td>\n      <td>7</td>\n      <td>642800391</td>\n      <td>[334495169, 134992358, 173169336, 143528]</td>\n      <td>3</td>\n    </tr>\n    <tr>\n      <th>482</th>\n      <td>23Y_NF1_microdeletion_r1</td>\n      <td>8</td>\n      <td>1</td>\n      <td>[Chr12]</td>\n      <td>2</td>\n      <td>3</td>\n      <td>14112</td>\n      <td>[7056, 7056]</td>\n      <td>1</td>\n    </tr>\n    <tr>\n      <th>487</th>\n      <td>23Y_NF1_microdeletion_r2</td>\n      <td>11</td>\n      <td>2</td>\n      <td>[Chr9, Chr14]</td>\n      <td>5</td>\n      <td>4</td>\n      <td>438190996</td>\n      <td>[128564, 231091236, 108694359, 9566642, 88710195]</td>\n      <td>-1</td>\n    </tr>\n    <tr>\n      <th>501</th>\n      <td>23Y_NF1_microdeletion_r2</td>\n      <td>5</td>\n      <td>2</td>\n      <td>[Chr1, Chr7]</td>\n      <td>3</td>\n      <td>4</td>\n      <td>18563491</td>\n      <td>[18282281, 8828, 988, 271394]</td>\n      <td>1</td>\n    </tr>\n    <tr>\n      <th>518</th>\n      <td>23Y_Potocki_Shaffer_r1</td>\n      <td>2</td>\n      <td>1</td>\n      <td>[Chr3]</td>\n      <td>1</td>\n      <td>2</td>\n      <td>395665859</td>\n      <td>[197990545, 197675314]</td>\n      <td>1</td>\n    </tr>\n    <tr>\n      <th>569</th>\n      <td>23Y_WAGR_11p13_deletion_r1</td>\n      <td>8</td>\n      <td>1</td>\n      <td>[Chr9]</td>\n      <td>3</td>\n      <td>2</td>\n      <td>164779193</td>\n      <td>[97931, 95098549, 69582713]</td>\n      <td>-1</td>\n    </tr>\n  </tbody>\n</table>\n</div>"
     },
     "execution_count": 49,
     "metadata": {},
     "output_type": "execute_result"
    }
   ],
   "source": [
    "df[df['n_path_diff'] != 0]"
   ],
   "metadata": {
    "collapsed": false,
    "pycharm": {
     "name": "#%%\n"
    }
   }
  },
  {
   "cell_type": "code",
   "execution_count": null,
   "outputs": [],
   "source": [],
   "metadata": {
    "collapsed": false,
    "pycharm": {
     "name": "#%%\n"
    }
   }
  }
 ],
 "metadata": {
  "kernelspec": {
   "display_name": "Python 3",
   "language": "python",
   "name": "python3"
  },
  "language_info": {
   "codemirror_mode": {
    "name": "ipython",
    "version": 2
   },
   "file_extension": ".py",
   "mimetype": "text/x-python",
   "name": "python",
   "nbconvert_exporter": "python",
   "pygments_lexer": "ipython2",
   "version": "2.7.6"
  }
 },
 "nbformat": 4,
 "nbformat_minor": 0
}