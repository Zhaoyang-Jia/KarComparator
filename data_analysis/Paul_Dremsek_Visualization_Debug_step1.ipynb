{
 "cells": [
  {
   "cell_type": "code",
   "execution_count": 1,
   "outputs": [],
   "source": [
    "import pandas as pd"
   ],
   "metadata": {
    "collapsed": false,
    "pycharm": {
     "name": "#%%\n"
    }
   }
  },
  {
   "cell_type": "code",
   "execution_count": 6,
   "outputs": [],
   "source": [
    "from read_OMKar_output import *"
   ],
   "metadata": {
    "collapsed": false,
    "pycharm": {
     "name": "#%%\n"
    }
   }
  },
  {
   "cell_type": "code",
   "execution_count": 2,
   "outputs": [],
   "source": [
    "df = pd.read_csv('/media/zhaoyang-new/workspace/paul_dremsek/Dremsek_Data_Analysis-Analysis.csv')"
   ],
   "metadata": {
    "collapsed": false,
    "pycharm": {
     "name": "#%%\n"
    }
   }
  },
  {
   "cell_type": "code",
   "execution_count": 4,
   "outputs": [],
   "source": [
    "df = pd.DataFrame({'Case Number': df['Case number'], 'SV Segment': df['SV Segment']})"
   ],
   "metadata": {
    "collapsed": false,
    "pycharm": {
     "name": "#%%\n"
    }
   }
  },
  {
   "cell_type": "code",
   "execution_count": 10,
   "outputs": [],
   "source": [
    "df = df.dropna()"
   ],
   "metadata": {
    "collapsed": false,
    "pycharm": {
     "name": "#%%\n"
    }
   }
  },
  {
   "cell_type": "code",
   "execution_count": 11,
   "outputs": [
    {
     "data": {
      "text/plain": "    Case Number SV Segment\n0             1          3\n1             2          5\n2             2         17\n3             3        9,7\n4             3      26,20\n..          ...        ...\n93           55         16\n94           55         31\n95           55         44\n96           56         34\n97           57          8\n\n[92 rows x 2 columns]",
      "text/html": "<div>\n<style scoped>\n    .dataframe tbody tr th:only-of-type {\n        vertical-align: middle;\n    }\n\n    .dataframe tbody tr th {\n        vertical-align: top;\n    }\n\n    .dataframe thead th {\n        text-align: right;\n    }\n</style>\n<table border=\"1\" class=\"dataframe\">\n  <thead>\n    <tr style=\"text-align: right;\">\n      <th></th>\n      <th>Case Number</th>\n      <th>SV Segment</th>\n    </tr>\n  </thead>\n  <tbody>\n    <tr>\n      <th>0</th>\n      <td>1</td>\n      <td>3</td>\n    </tr>\n    <tr>\n      <th>1</th>\n      <td>2</td>\n      <td>5</td>\n    </tr>\n    <tr>\n      <th>2</th>\n      <td>2</td>\n      <td>17</td>\n    </tr>\n    <tr>\n      <th>3</th>\n      <td>3</td>\n      <td>9,7</td>\n    </tr>\n    <tr>\n      <th>4</th>\n      <td>3</td>\n      <td>26,20</td>\n    </tr>\n    <tr>\n      <th>...</th>\n      <td>...</td>\n      <td>...</td>\n    </tr>\n    <tr>\n      <th>93</th>\n      <td>55</td>\n      <td>16</td>\n    </tr>\n    <tr>\n      <th>94</th>\n      <td>55</td>\n      <td>31</td>\n    </tr>\n    <tr>\n      <th>95</th>\n      <td>55</td>\n      <td>44</td>\n    </tr>\n    <tr>\n      <th>96</th>\n      <td>56</td>\n      <td>34</td>\n    </tr>\n    <tr>\n      <th>97</th>\n      <td>57</td>\n      <td>8</td>\n    </tr>\n  </tbody>\n</table>\n<p>92 rows × 2 columns</p>\n</div>"
     },
     "execution_count": 11,
     "metadata": {},
     "output_type": "execute_result"
    }
   ],
   "source": [
    "df"
   ],
   "metadata": {
    "collapsed": false,
    "pycharm": {
     "name": "#%%\n"
    }
   }
  },
  {
   "cell_type": "code",
   "execution_count": 14,
   "outputs": [],
   "source": [
    "file_prefix = '/media/zhaoyang-new/workspace/paul_dremsek/omkar_output/'\n",
    "file_suffix = '.txt'\n",
    "\n",
    "\n",
    "new_case_number_col = []\n",
    "new_segment_chr = []\n",
    "new_segment_start = []\n",
    "new_segment_end = []\n",
    "new_segment_length = []\n",
    "for index, row in df.iterrows():\n",
    "\tcase_number = row['Case Number']\n",
    "\tsv_segment = row['SV Segment'].split(',')\n",
    "\n",
    "\tfile_path = file_prefix + str(case_number) + file_suffix\n",
    "\tpath_list, index_to_segment_dict = read_OMKar_output(file_path, return_segment_dict=True)\n",
    "\n",
    "\tfor segment_ptr in sv_segment:\n",
    "\t\tnew_case_number_col.append(int(case_number))\n",
    "\t\tsegment = index_to_segment_dict[int(segment_ptr)]\n",
    "\t\tnew_segment_chr.append(segment.chr_name)\n",
    "\t\tnew_segment_start.append(int(segment.start))\n",
    "\t\tnew_segment_end.append(int(segment.end))\n",
    "\t\tnew_segment_length.append(abs(int(segment.end) - int(segment.start)))\n",
    "\n",
    "new_df = pd.DataFrame({'Case Number': new_case_number_col,\n",
    "\t\t\t\t\t   'Chr': new_segment_chr,\n",
    "\t\t\t\t\t   'Start': new_segment_start,\n",
    "\t\t\t\t\t   'End': new_segment_end,\n",
    "\t\t\t\t\t   'Length (kb)': new_segment_length})\n",
    "new_df['Length (kb)'] = new_df['Length (kb)'] / 1000"
   ],
   "metadata": {
    "collapsed": false,
    "pycharm": {
     "name": "#%%\n"
    }
   }
  },
  {
   "cell_type": "code",
   "execution_count": 15,
   "outputs": [
    {
     "data": {
      "text/plain": "     Case Number    Chr      Start        End  Length (kb)\n0              1   Chr2  130271298  131386307     1115.009\n1              2   Chr2   96995391   97531656      536.265\n2              2  Chr10   46061035   46387503      326.468\n3              3   Chr2  124318296  125307772      989.476\n4              3   Chr2  106462406  107833526     1371.120\n..           ...    ...        ...        ...          ...\n107           55   Chr9   26212045   26499987      287.942\n108           55  Chr14   66782235   67429788      647.553\n109           55  Chr17   16814036   18492887     1678.851\n110           56  Chr17   16806184   18509508     1703.324\n111           57   Chr3    2706848    3068226      361.378\n\n[112 rows x 5 columns]",
      "text/html": "<div>\n<style scoped>\n    .dataframe tbody tr th:only-of-type {\n        vertical-align: middle;\n    }\n\n    .dataframe tbody tr th {\n        vertical-align: top;\n    }\n\n    .dataframe thead th {\n        text-align: right;\n    }\n</style>\n<table border=\"1\" class=\"dataframe\">\n  <thead>\n    <tr style=\"text-align: right;\">\n      <th></th>\n      <th>Case Number</th>\n      <th>Chr</th>\n      <th>Start</th>\n      <th>End</th>\n      <th>Length (kb)</th>\n    </tr>\n  </thead>\n  <tbody>\n    <tr>\n      <th>0</th>\n      <td>1</td>\n      <td>Chr2</td>\n      <td>130271298</td>\n      <td>131386307</td>\n      <td>1115.009</td>\n    </tr>\n    <tr>\n      <th>1</th>\n      <td>2</td>\n      <td>Chr2</td>\n      <td>96995391</td>\n      <td>97531656</td>\n      <td>536.265</td>\n    </tr>\n    <tr>\n      <th>2</th>\n      <td>2</td>\n      <td>Chr10</td>\n      <td>46061035</td>\n      <td>46387503</td>\n      <td>326.468</td>\n    </tr>\n    <tr>\n      <th>3</th>\n      <td>3</td>\n      <td>Chr2</td>\n      <td>124318296</td>\n      <td>125307772</td>\n      <td>989.476</td>\n    </tr>\n    <tr>\n      <th>4</th>\n      <td>3</td>\n      <td>Chr2</td>\n      <td>106462406</td>\n      <td>107833526</td>\n      <td>1371.120</td>\n    </tr>\n    <tr>\n      <th>...</th>\n      <td>...</td>\n      <td>...</td>\n      <td>...</td>\n      <td>...</td>\n      <td>...</td>\n    </tr>\n    <tr>\n      <th>107</th>\n      <td>55</td>\n      <td>Chr9</td>\n      <td>26212045</td>\n      <td>26499987</td>\n      <td>287.942</td>\n    </tr>\n    <tr>\n      <th>108</th>\n      <td>55</td>\n      <td>Chr14</td>\n      <td>66782235</td>\n      <td>67429788</td>\n      <td>647.553</td>\n    </tr>\n    <tr>\n      <th>109</th>\n      <td>55</td>\n      <td>Chr17</td>\n      <td>16814036</td>\n      <td>18492887</td>\n      <td>1678.851</td>\n    </tr>\n    <tr>\n      <th>110</th>\n      <td>56</td>\n      <td>Chr17</td>\n      <td>16806184</td>\n      <td>18509508</td>\n      <td>1703.324</td>\n    </tr>\n    <tr>\n      <th>111</th>\n      <td>57</td>\n      <td>Chr3</td>\n      <td>2706848</td>\n      <td>3068226</td>\n      <td>361.378</td>\n    </tr>\n  </tbody>\n</table>\n<p>112 rows × 5 columns</p>\n</div>"
     },
     "execution_count": 15,
     "metadata": {},
     "output_type": "execute_result"
    }
   ],
   "source": [
    "new_df"
   ],
   "metadata": {
    "collapsed": false,
    "pycharm": {
     "name": "#%%\n"
    }
   }
  },
  {
   "cell_type": "code",
   "execution_count": 17,
   "outputs": [],
   "source": [
    "new_df.to_csv('paul_dremsek_visualization_debug.csv', index=False)"
   ],
   "metadata": {
    "collapsed": false,
    "pycharm": {
     "name": "#%%\n"
    }
   }
  },
  {
   "cell_type": "code",
   "execution_count": null,
   "outputs": [],
   "source": [],
   "metadata": {
    "collapsed": false,
    "pycharm": {
     "name": "#%%\n"
    }
   }
  }
 ],
 "metadata": {
  "kernelspec": {
   "display_name": "Python 3",
   "language": "python",
   "name": "python3"
  },
  "language_info": {
   "codemirror_mode": {
    "name": "ipython",
    "version": 2
   },
   "file_extension": ".py",
   "mimetype": "text/x-python",
   "name": "python",
   "nbconvert_exporter": "python",
   "pygments_lexer": "ipython2",
   "version": "2.7.6"
  }
 },
 "nbformat": 4,
 "nbformat_minor": 0
}